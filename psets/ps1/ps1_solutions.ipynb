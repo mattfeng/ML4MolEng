{
 "cells": [
  {
   "cell_type": "markdown",
   "metadata": {},
   "source": [
    "#  <center> Problem Set 1 <center>\n",
    "<center> Spring 2021 <center>\n",
    "<center> 3.100/3.322, 10.402/10.602, 20.301/20.401 <center>\n",
    "<center> Due:10 pm ET on Thursday, March 4, 2021 <center>"
   ]
  },
  {
   "cell_type": "markdown",
   "metadata": {
    "deletable": false,
    "editable": false,
    "run_control": {
     "frozen": true
    }
   },
   "source": [
    "Name: Matthew Feng\n",
    "\n",
    "Kerberos id: mattfeng"
   ]
  },
  {
   "cell_type": "markdown",
   "metadata": {
    "deletable": false,
    "editable": false,
    "run_control": {
     "frozen": true
    }
   },
   "source": [
    "### Instructions: \n",
    "\n",
    "Put your code in the code block like this:"
   ]
  },
  {
   "cell_type": "code",
   "execution_count": null,
   "metadata": {
    "deletable": false,
    "editable": false,
    "run_control": {
     "frozen": true
    }
   },
   "outputs": [],
   "source": [
    "########### 𝙲𝚘𝚍𝚎 #############  \n",
    "def mycode():\n",
    "    print(\"run my code here\")\n",
    "    \n",
    "def plot():\n",
    "    plt.hist(np.ones(100))\n",
    "\n",
    "mycode()\n",
    "plot()\n",
    "########### 𝙲𝚘𝚍𝚎 ############# "
   ]
  },
  {
   "cell_type": "markdown",
   "metadata": {
    "deletable": false,
    "editable": false,
    "run_control": {
     "frozen": true
    }
   },
   "source": [
    "We provided print statements where numerical answers are expected. \n",
    "\n",
    "Your answer should be contained in a variable which you defined either in the Answer Block or the Code Block.\n",
    "\n",
    "When a qualitative answer is expected. You can write answer as code comments by placing a # before your answer \n",
    "\n",
    "Your Answer Block should look like the following: "
   ]
  },
  {
   "cell_type": "code",
   "execution_count": null,
   "metadata": {
    "deletable": false,
    "editable": false,
    "run_control": {
     "frozen": true
    }
   },
   "outputs": [],
   "source": [
    "########## Answer ############\n",
    "\n",
    "ans = 2\n",
    "print(\"My answer is: {}.\".format(ans))\n",
    "\n",
    "# My regressor over-fitted the training data, I need to add regularization.\n",
    "\n",
    "########## Answer ############"
   ]
  },
  {
   "cell_type": "markdown",
   "metadata": {
    "deletable": false,
    "editable": false,
    "run_control": {
     "frozen": true
    }
   },
   "source": [
    "### Install packages"
   ]
  },
  {
   "cell_type": "code",
   "execution_count": null,
   "metadata": {},
   "outputs": [],
   "source": [
    "# !pip install scikit-learn\n",
    "# !pip install pandas"
   ]
  },
  {
   "cell_type": "markdown",
   "metadata": {
    "deletable": false,
    "editable": false,
    "run_control": {
     "frozen": true
    }
   },
   "source": [
    "### Import packages, settings, helper functions"
   ]
  },
  {
   "cell_type": "code",
   "execution_count": 4,
   "metadata": {},
   "outputs": [],
   "source": [
    "# import packages\n",
    "import numpy as np\n",
    "import sklearn\n",
    "import pandas as pd\n",
    "from sklearn.model_selection import train_test_split\n",
    "\n",
    "# models \n",
    "from sklearn.linear_model import LogisticRegression\n",
    "from sklearn.ensemble import RandomForestClassifier\n",
    "from sklearn.model_selection import GridSearchCV\n",
    "from sklearn.preprocessing import StandardScaler\n",
    "\n",
    "# metrics \n",
    "from sklearn.metrics import plot_confusion_matrix, plot_roc_curve\n",
    "from sklearn.model_selection import cross_val_score\n",
    "import matplotlib.pyplot as plt\n",
    "\n",
    "# plotting style, you can choose your own parameters\n",
    "import matplotlib\n",
    "\n",
    "matplotlib.rcParams.update({'font.size': 15})\n",
    "matplotlib.rc('lines', linewidth=3, color='g')\n",
    "matplotlib.rcParams['axes.linewidth'] = 2.0\n",
    "matplotlib.rcParams['axes.linewidth'] = 2.0\n",
    "matplotlib.rcParams[\"xtick.major.size\"] = 6\n",
    "matplotlib.rcParams[\"ytick.major.size\"] = 6\n",
    "matplotlib.rcParams[\"ytick.major.width\"] = 2\n",
    "matplotlib.rcParams[\"xtick.major.width\"] = 2\n",
    "matplotlib.rcParams['text.usetex'] = False"
   ]
  },
  {
   "cell_type": "code",
   "execution_count": 5,
   "metadata": {},
   "outputs": [],
   "source": [
    "# A helper function for students to produce plots \n",
    "def plot_clf(model, X, y, title): \n",
    "    \"\"\"\n",
    "    A function to plot confusion matrix and ROC curve \n",
    "\n",
    "    Args: \n",
    "        model(classifier object): model object (e.g. RandomForestClassifier, LogisticRegression)\n",
    "        X(np.array): feature set\n",
    "        y(np.array): label set \n",
    "        title(str): plot name\n",
    "\n",
    "    Example Usage: \n",
    "        plot_clf(model, X_test, y_test, \"test\")\n",
    "    \"\"\"\n",
    "    \n",
    "    fig, [ax_roc, ax_conf] = plt.subplots(1, 2, figsize=(6, 3))\n",
    "    fig.tight_layout()\n",
    "    \n",
    "    plot_roc_curve(model, X, y, ax=ax_roc)\n",
    "    plot_confusion_matrix(model, X, y, ax=ax_conf)\n",
    "\n",
    "    ax_roc.set_title('{} ROC'.format(title))\n",
    "    ax_conf.set_title('{} Confusion Mat.'.format(title))\n",
    "\n",
    "    plt.show()"
   ]
  },
  {
   "cell_type": "markdown",
   "metadata": {
    "deletable": false,
    "editable": false,
    "run_control": {
     "frozen": true
    }
   },
   "source": [
    "## <center>Problem 1 <center>"
   ]
  },
  {
   "cell_type": "code",
   "execution_count": null,
   "metadata": {},
   "outputs": [],
   "source": [
    "# Download data \n",
    "# !wget https://raw.githubusercontent.com/wwang2/ML4MolEng/master/psets/ps1/data/breastcancer_X.csv\n",
    "# !wget https://raw.githubusercontent.com/wwang2/ML4MolEng/master/psets/ps1/data/breastcancer_y.csv"
   ]
  },
  {
   "cell_type": "markdown",
   "metadata": {
    "deletable": false,
    "editable": false,
    "run_control": {
     "frozen": true
    }
   },
   "source": [
    "### 1.1"
   ]
  },
  {
   "cell_type": "markdown",
   "metadata": {
    "deletable": false,
    "editable": false,
    "run_control": {
     "frozen": true
    }
   },
   "source": [
    "We provided the code to load the dataset. Take a moment to understand what each line is doing. Briefy explain what each line of the code is doing by providing short comments below. \n",
    "\n",
    "You will have to do it by yourself again in Problem 2."
   ]
  },
  {
   "cell_type": "code",
   "execution_count": 6,
   "metadata": {
    "deletable": false,
    "editable": false
   },
   "outputs": [],
   "source": [
    "X = pd.read_csv(\"./data/breastcancer_X.csv\", header='infer', index_col=0) # read in data features\n",
    "y = pd.read_csv(\"./data/breastcancer_y.csv\", header='infer', index_col=0) # read in data labels\n",
    "\n",
    "metabolite_name = X.columns.tolist() # get a list of metabolites\n",
    "\n",
    "X = X.values # convert X from dataframe to numpy matrix\n",
    "y = y.values # convert y from dataframe to numpy matrix"
   ]
  },
  {
   "cell_type": "markdown",
   "metadata": {
    "deletable": false,
    "editable": false,
    "run_control": {
     "frozen": true
    }
   },
   "source": [
    "Report how many examples are in this dataset and the number of features for each data point."
   ]
  },
  {
   "cell_type": "code",
   "execution_count": 13,
   "metadata": {
    "deletable": false,
    "editable": false
   },
   "outputs": [
    {
     "name": "stdout",
     "output_type": "stream",
     "text": [
      "There are 211 samples.\n",
      "There are 128 features per sample.\n"
     ]
    }
   ],
   "source": [
    "########## Answer ############\n",
    "\n",
    "N_samples, N_features = X.shape\n",
    "print(\"There are {} samples.\".format(N_samples))\n",
    "print(\"There are {} features per sample.\".format(N_features))\n",
    "\n",
    "########## Answer ############"
   ]
  },
  {
   "cell_type": "markdown",
   "metadata": {
    "deletable": false,
    "editable": false,
    "run_control": {
     "frozen": true
    }
   },
   "source": [
    "### 1.2"
   ]
  },
  {
   "cell_type": "markdown",
   "metadata": {
    "deletable": false,
    "editable": false,
    "run_control": {
     "frozen": true
    }
   },
   "source": [
    "Write code to split dataset into train and test sets (a 80/20 split)."
   ]
  },
  {
   "cell_type": "code",
   "execution_count": 21,
   "metadata": {
    "deletable": false,
    "editable": false
   },
   "outputs": [],
   "source": [
    "########### Code #############\n",
    "\n",
    "X_train, X_test, y_train, y_test = train_test_split(\n",
    "    X, y, test_size=0.2, shuffle=True, random_state=54321)\n",
    "\n",
    "########### Code #############"
   ]
  },
  {
   "cell_type": "markdown",
   "metadata": {
    "deletable": false,
    "editable": false,
    "run_control": {
     "frozen": true
    }
   },
   "source": [
    "Print the shapes of your four variables: `X_train`, `X_test`, `y_train`, and `y_test`. Ensure that the dimensions match your expectations."
   ]
  },
  {
   "cell_type": "code",
   "execution_count": 22,
   "metadata": {
    "deletable": false,
    "editable": false
   },
   "outputs": [
    {
     "name": "stdout",
     "output_type": "stream",
     "text": [
      "X_train shape: (168, 128)\n",
      "y_train shape: (168, 1)\n",
      "X_test shape: (43, 128)\n",
      "y_test shape: (43, 1)\n"
     ]
    }
   ],
   "source": [
    "########## Answer ############\n",
    "\n",
    "X_train_shape = Xtrain.shape\n",
    "y_train_shape = ytrain.shape\n",
    "X_test_shape = Xtest.shape\n",
    "y_test_shape = ytest.shape\n",
    "\n",
    "print(\"X_train shape: {}\".format(X_train_shape))\n",
    "print(\"y_train shape: {}\".format(y_train_shape))\n",
    "\n",
    "print(\"X_test shape: {}\".format(X_test_shape))\n",
    "print(\"y_test shape: {}\".format(y_test_shape))\n",
    "\n",
    "########## Answer ############"
   ]
  },
  {
   "cell_type": "markdown",
   "metadata": {
    "deletable": false,
    "editable": false,
    "run_control": {
     "frozen": true
    }
   },
   "source": [
    "### 1.3 "
   ]
  },
  {
   "cell_type": "markdown",
   "metadata": {
    "deletable": false,
    "editable": false,
    "run_control": {
     "frozen": true
    }
   },
   "source": [
    "Write code to scale the features in the dataset."
   ]
  },
  {
   "cell_type": "code",
   "execution_count": 23,
   "metadata": {
    "deletable": false,
    "editable": false
   },
   "outputs": [],
   "source": [
    "########### Code #############\n",
    "\n",
    "scaler = StandardScaler()\n",
    "scaler.fit(X_train)\n",
    "X_train_scaled = scaler.transform(X_train)\n",
    "X_test_scaled = scaler.transform(X_test)\n",
    "\n",
    "########### Code #############"
   ]
  },
  {
   "cell_type": "markdown",
   "metadata": {
    "deletable": false,
    "editable": false,
    "run_control": {
     "frozen": true
    }
   },
   "source": [
    "Print the mean and variance for each transformed feature."
   ]
  },
  {
   "cell_type": "code",
   "execution_count": 32,
   "metadata": {
    "deletable": false,
    "editable": false
   },
   "outputs": [
    {
     "name": "stdout",
     "output_type": "stream",
     "text": [
      "The means of the transformed feature set are [ 5.64429456e-15  1.71159383e-15  9.80036158e-16  6.41682474e-16\n",
      "  7.19662425e-16  5.47181348e-16  6.55560262e-16 -6.14587746e-17\n",
      "  2.81851262e-16 -5.69897965e-16  5.83527935e-16 -1.25230514e-16\n",
      " -4.21620411e-16  4.92661467e-16 -3.89899753e-16  1.95082046e-15\n",
      "  6.70098897e-16 -6.01370805e-16  7.98303222e-16  1.62568371e-16\n",
      "  2.28983499e-16  4.85061726e-16  1.29162554e-15 -4.29550575e-17\n",
      " -4.75809868e-17  7.66417353e-16  7.25610048e-16 -5.69650147e-16\n",
      " -8.12841857e-16 -6.47630098e-17 -6.38378239e-16 -2.39226628e-16\n",
      "  1.31541603e-15  1.02959969e-15 -4.21620411e-16  6.41021627e-16\n",
      "  1.52920005e-15 -8.80909102e-16  9.95318246e-16 -1.12542251e-15\n",
      "  9.15933995e-16  1.27279140e-15  1.67855148e-16 -2.08827664e-16\n",
      "  2.86807615e-16  6.84637532e-16 -9.60871594e-16  1.12740505e-15\n",
      " -2.68303898e-16  1.56703354e-15 -1.55299054e-17 -4.82418338e-16\n",
      "  3.38353684e-16  1.27675648e-15 -1.32169408e-16 -1.76446159e-16\n",
      " -1.04149493e-15  4.29550575e-16  5.11495608e-16  4.79774950e-16\n",
      " -9.71445147e-16 -1.99575806e-16 -1.38777878e-16  3.78747959e-16\n",
      " -5.14138996e-16 -2.74912368e-16  8.45884209e-17  3.87008547e-16\n",
      "  8.49849291e-16  1.28204325e-16  2.16757829e-16 -2.11471052e-16\n",
      " -8.11520163e-16 -8.27380492e-16 -8.36632351e-16  2.21086377e-15\n",
      "  1.98254112e-16 -3.17206578e-16 -9.28820513e-16  3.01346250e-16\n",
      "  1.00580919e-15 -8.20111175e-16  7.97642375e-16 -7.11071413e-16\n",
      "  9.68801758e-16 -1.69176842e-15 -1.58603289e-16  2.24687993e-16\n",
      "  3.84612976e-16  1.05603357e-15  8.39275739e-16  5.97405723e-16\n",
      " -3.76682812e-16 -5.07530526e-16 -4.45741327e-16  5.76258618e-16\n",
      " -2.43191710e-16  1.25560937e-16 -1.04116451e-15  1.49615770e-15\n",
      "  7.33540213e-16 -1.09700608e-15 -1.57281595e-16  5.12817302e-16\n",
      " -5.24712549e-16  8.88178420e-16 -1.61081466e-15  6.47630098e-16\n",
      " -3.46944695e-16 -5.55111512e-17 -1.05999865e-15 -4.08403470e-16\n",
      " -4.72505633e-16  4.00473305e-16 -4.82418338e-16  4.22942105e-17\n",
      "  8.62405385e-16  8.72318091e-17  7.41470377e-16  1.42742960e-16\n",
      "  8.81569949e-16 -5.32394895e-16 -2.20722911e-16 -3.15884884e-16\n",
      "  5.47181348e-16 -7.59974094e-16 -7.83764588e-16  9.68801758e-16]\n",
      "The variances of the transformed feature set are [1. 1. 1. 1. 1. 1. 1. 1. 1. 1. 1. 1. 1. 1. 1. 1. 1. 1. 1. 1. 1. 1. 1. 1.\n",
      " 1. 1. 1. 1. 1. 1. 1. 1. 1. 1. 1. 1. 1. 1. 1. 1. 1. 1. 1. 1. 1. 1. 1. 1.\n",
      " 1. 1. 1. 1. 1. 1. 1. 1. 1. 1. 1. 1. 1. 1. 1. 1. 1. 1. 1. 1. 1. 1. 1. 1.\n",
      " 1. 1. 1. 1. 1. 1. 1. 1. 1. 1. 1. 1. 1. 1. 1. 1. 1. 1. 1. 1. 1. 1. 1. 1.\n",
      " 1. 1. 1. 1. 1. 1. 1. 1. 1. 1. 1. 1. 1. 1. 1. 1. 1. 1. 1. 1. 1. 1. 1. 1.\n",
      " 1. 1. 1. 1. 1. 1. 1. 1.]\n"
     ]
    }
   ],
   "source": [
    "########## Answer ############\n",
    "\n",
    "mean = np.mean(X_train_scaled, axis=0)\n",
    "variance = np.var(X_train_scaled, axis=0)\n",
    "\n",
    "print(\"The means of the transformed feature set are {}\".format(mean) )\n",
    "print(\"The variances of the transformed feature set are {}\".format(variance) )\n",
    "\n",
    "########## Answer ############"
   ]
  },
  {
   "cell_type": "markdown",
   "metadata": {
    "deletable": false,
    "editable": false,
    "run_control": {
     "frozen": true
    }
   },
   "source": [
    "### 1.4"
   ]
  },
  {
   "cell_type": "markdown",
   "metadata": {
    "deletable": false,
    "editable": false,
    "run_control": {
     "frozen": true
    }
   },
   "source": [
    "Train and evaluate a **Logistic Regression** model."
   ]
  },
  {
   "cell_type": "code",
   "execution_count": null,
   "metadata": {},
   "outputs": [],
   "source": [
    "########### Code #############\n",
    "\n",
    "# from sklearn.metrics import roc_auc_score\n",
    "# roc_auc_score(y_train, clf.predict_proba(X_train)[:, 1])\n",
    "\n",
    "########### Code #############"
   ]
  },
  {
   "cell_type": "markdown",
   "metadata": {},
   "source": [
    "report the AUC scorefor both training and testing data. "
   ]
  },
  {
   "cell_type": "code",
   "execution_count": null,
   "metadata": {},
   "outputs": [],
   "source": [
    "########## Answer ############\n",
    "\n",
    "train_auc = 0.5\n",
    "test_auc = 0.5\n",
    "print(\"The training AUC score is {}\".format(train_auc) )\n",
    "print(\"The testing AUC score is {}\".format(test_auc) )\n",
    "\n",
    "########## Answer ############"
   ]
  },
  {
   "cell_type": "markdown",
   "metadata": {},
   "source": [
    "Generate plots for confusion matrices and ROCcurve for both training and testing. Please use the plot_clf function defined above"
   ]
  },
  {
   "cell_type": "code",
   "execution_count": null,
   "metadata": {},
   "outputs": [],
   "source": [
    "########### Code #############\n",
    "\n",
    "\n",
    "\n",
    "########### Code #############"
   ]
  },
  {
   "cell_type": "markdown",
   "metadata": {},
   "source": [
    "### 1.5 "
   ]
  },
  {
   "cell_type": "markdown",
   "metadata": {},
   "source": [
    "Code to perform cross-validation"
   ]
  },
  {
   "cell_type": "code",
   "execution_count": null,
   "metadata": {},
   "outputs": [],
   "source": [
    "########### Code #############\n",
    "\n",
    "\n",
    "\n",
    "########### Code #############"
   ]
  },
  {
   "cell_type": "markdown",
   "metadata": {},
   "source": [
    "report the cross validated ROC-AUC score in terms of its mean and standard deviation"
   ]
  },
  {
   "cell_type": "code",
   "execution_count": null,
   "metadata": {},
   "outputs": [],
   "source": [
    "########## Answer ############\n",
    "\n",
    "print(\"The mean of CV scores is {}\".format(mean) )\n",
    "print(\"The std of CV scores is {}\".format(std) )\n",
    "\n",
    "\n",
    "########## Answer ############"
   ]
  },
  {
   "cell_type": "markdown",
   "metadata": {},
   "source": [
    "### 1.6  (Extra credit)"
   ]
  },
  {
   "cell_type": "markdown",
   "metadata": {},
   "source": [
    "Code to identify the top 5 metabolites that positively correlated the most with positive diagnosis."
   ]
  },
  {
   "cell_type": "code",
   "execution_count": null,
   "metadata": {},
   "outputs": [],
   "source": [
    "########### Code #############\n",
    "\n",
    "\n",
    "\n",
    "########### Code #############"
   ]
  },
  {
   "cell_type": "markdown",
   "metadata": {},
   "source": [
    "Report the metabolites you identified"
   ]
  },
  {
   "cell_type": "code",
   "execution_count": null,
   "metadata": {},
   "outputs": [],
   "source": [
    "########## Answer ############\n",
    "\n",
    "metboliates = ['A', 'B', 'C', 'D', 'E']\n",
    "\n",
    "print(\"The top 5 metabolites are {}\".format(\", \".join(metboliates)) )\n",
    "\n",
    "########## Answer ############"
   ]
  },
  {
   "cell_type": "markdown",
   "metadata": {},
   "source": [
    "### 1.7 "
   ]
  },
  {
   "cell_type": "markdown",
   "metadata": {},
   "source": [
    "For each hypothetical featurization, obtain an average ROC-AUC and its standard deviation through a 5-fold CV. "
   ]
  },
  {
   "cell_type": "code",
   "execution_count": null,
   "metadata": {},
   "outputs": [],
   "source": [
    "########### Code #############\n",
    "\n",
    "\n",
    "\n",
    "########### Code #############"
   ]
  },
  {
   "cell_type": "markdown",
   "metadata": {},
   "source": [
    "Use matplotlib to generate one scatter showing these cross-validated test AUC score (y-axis) as a function of the different different feature subset sizes (x-axis) with error bars corresponding to the standard deviations. Here, we provide an example plotting code. "
   ]
  },
  {
   "cell_type": "code",
   "execution_count": null,
   "metadata": {},
   "outputs": [],
   "source": [
    "########### Code #############\n",
    "\n",
    "# generate random data \n",
    "feature_sizes = [0.2, 0.4, 0.6, 0.8]\n",
    "y_auc = np.random.randn(4)\n",
    "y_uncer = np.random.uniform(0.2, 1, size=4) * 0.25\n",
    "\n",
    "# plotting code \n",
    "plt.figure(figsize=(5,5)) # define figure size \n",
    "plt.errorbar(feature_sizes, y_auc, y_uncer, marker='o', ms=10, mew=2, label='line 1') \n",
    "plt.xlabel('feature sizes')\n",
    "plt.ylabel('CV-AUC')\n",
    "plt.legend()\n",
    "plt.show()\n",
    "\n",
    "########### Code #############"
   ]
  },
  {
   "cell_type": "markdown",
   "metadata": {},
   "source": [
    "# Problem 2 "
   ]
  },
  {
   "cell_type": "code",
   "execution_count": null,
   "metadata": {},
   "outputs": [],
   "source": [
    "!wget https://raw.githubusercontent.com/wwang2/ML4MolEng/master/psets/ps1/data/liver_X.csv\n",
    "!wget https://raw.githubusercontent.com/wwang2/ML4MolEng/master/psets/ps1/data/liver_y.csv"
   ]
  },
  {
   "cell_type": "markdown",
   "metadata": {},
   "source": [
    "### 2.1 "
   ]
  },
  {
   "cell_type": "markdown",
   "metadata": {},
   "source": [
    "Follow  the  same  procedure  from  Part  1  to  load  the  data,  split  the  data,  scale  the  data"
   ]
  },
  {
   "cell_type": "code",
   "execution_count": null,
   "metadata": {},
   "outputs": [],
   "source": [
    "########### Code #############\n",
    "\n",
    "\n",
    "\n",
    "########### Code #############"
   ]
  },
  {
   "cell_type": "markdown",
   "metadata": {},
   "source": [
    "train  a logistic  regression  model,  and  test  its  performance."
   ]
  },
  {
   "cell_type": "code",
   "execution_count": null,
   "metadata": {},
   "outputs": [],
   "source": [
    "########### Code #############\n",
    "\n",
    "\n",
    "\n",
    "########### Code #############"
   ]
  },
  {
   "cell_type": "markdown",
   "metadata": {},
   "source": [
    "Generate Confusion Matrix and ROC curve"
   ]
  },
  {
   "cell_type": "code",
   "execution_count": null,
   "metadata": {},
   "outputs": [],
   "source": [
    "########### Code #############\n",
    "\n",
    "\n",
    "\n",
    "########### Code #############"
   ]
  },
  {
   "cell_type": "markdown",
   "metadata": {},
   "source": [
    "Report your test ROC-AUC score "
   ]
  },
  {
   "cell_type": "code",
   "execution_count": null,
   "metadata": {},
   "outputs": [],
   "source": [
    "########## Answer ############\n",
    "\n",
    "print(\"The training AUC score is {}\".format(train_auc) )\n",
    "print(\"The testing AUC score is {}\".format(test_auc) )\n",
    "\n",
    "########## Answer ############"
   ]
  },
  {
   "cell_type": "markdown",
   "metadata": {},
   "source": [
    "### 2.2"
   ]
  },
  {
   "cell_type": "markdown",
   "metadata": {},
   "source": [
    "Run L1-regularized Logistic Regressions"
   ]
  },
  {
   "cell_type": "code",
   "execution_count": null,
   "metadata": {},
   "outputs": [],
   "source": [
    "########### Code #############\n",
    "\n",
    "\n",
    "\n",
    "########### Code #############"
   ]
  },
  {
   "cell_type": "markdown",
   "metadata": {},
   "source": [
    "Report ROC-AUC score "
   ]
  },
  {
   "cell_type": "code",
   "execution_count": null,
   "metadata": {},
   "outputs": [],
   "source": [
    "########## Answer ############\n",
    "\n",
    "print(\"The training AUC score is {}\".format(train_auc) )\n",
    "print(\"The testing AUC score is {}\".format(test_auc) )\n",
    "\n",
    "########## Answer ############"
   ]
  },
  {
   "cell_type": "markdown",
   "metadata": {},
   "source": [
    "Generate Confusion Matrix and ROC curve"
   ]
  },
  {
   "cell_type": "code",
   "execution_count": null,
   "metadata": {},
   "outputs": [],
   "source": [
    "########### Code #############\n",
    "\n",
    "\n",
    "\n",
    "########### Code #############"
   ]
  },
  {
   "cell_type": "markdown",
   "metadata": {},
   "source": [
    "Generate the histrogram of model coefficients "
   ]
  },
  {
   "cell_type": "code",
   "execution_count": null,
   "metadata": {},
   "outputs": [],
   "source": [
    "########### Code #############\n",
    "\n",
    "\n",
    "\n",
    "########### Code #############"
   ]
  },
  {
   "cell_type": "markdown",
   "metadata": {},
   "source": [
    "Comment on the histogram you obtained "
   ]
  },
  {
   "cell_type": "code",
   "execution_count": null,
   "metadata": {},
   "outputs": [],
   "source": [
    "########## Answer ############\n",
    "\n",
    "\n",
    "\n",
    "########## Answer ############"
   ]
  },
  {
   "cell_type": "markdown",
   "metadata": {},
   "source": [
    "### 2.3"
   ]
  },
  {
   "cell_type": "markdown",
   "metadata": {},
   "source": [
    "Run L2-regularized Logistic Regressions "
   ]
  },
  {
   "cell_type": "code",
   "execution_count": null,
   "metadata": {},
   "outputs": [],
   "source": [
    "########### Code #############\n",
    "\n",
    "\n",
    "\n",
    "########### Code #############"
   ]
  },
  {
   "cell_type": "markdown",
   "metadata": {},
   "source": [
    "Generate Confusion Matrix and ROC curve"
   ]
  },
  {
   "cell_type": "code",
   "execution_count": null,
   "metadata": {},
   "outputs": [],
   "source": [
    "########### Code #############\n",
    "\n",
    "\n",
    "\n",
    "########### Code #############"
   ]
  },
  {
   "cell_type": "markdown",
   "metadata": {},
   "source": [
    "Report test ROC-AUC score"
   ]
  },
  {
   "cell_type": "code",
   "execution_count": null,
   "metadata": {},
   "outputs": [],
   "source": [
    "########## Answer ############\n",
    "\n",
    "print(\"The training AUC score is {}\".format(train_auc) )\n",
    "print(\"The testing AUC score is {}\".format(test_auc) )\n",
    "\n",
    "########## Answer ############"
   ]
  },
  {
   "cell_type": "markdown",
   "metadata": {},
   "source": [
    "Generate the histrogram of model coefficients "
   ]
  },
  {
   "cell_type": "code",
   "execution_count": null,
   "metadata": {},
   "outputs": [],
   "source": [
    "########### Code #############\n",
    "\n",
    "\n",
    "\n",
    "########### Code #############"
   ]
  },
  {
   "cell_type": "markdown",
   "metadata": {},
   "source": [
    "comment on your histogram"
   ]
  },
  {
   "cell_type": "code",
   "execution_count": null,
   "metadata": {},
   "outputs": [],
   "source": [
    "########## Answer ############\n",
    "\n",
    "\n",
    "\n",
    "########## Answer ############"
   ]
  },
  {
   "cell_type": "markdown",
   "metadata": {},
   "source": [
    "### 2.4"
   ]
  },
  {
   "cell_type": "markdown",
   "metadata": {},
   "source": [
    "Run un-regularized and L1-regularized logistic regressions for the fol-lowing random train/test splits:\n",
    "\n",
    "{20%/30%,30%/30%,40%/30%,50%/30%,60%/30%}. "
   ]
  },
  {
   "cell_type": "code",
   "execution_count": null,
   "metadata": {},
   "outputs": [],
   "source": [
    "########### Code #############\n",
    "\n",
    "\n",
    "\n",
    "########### Code #############"
   ]
  },
  {
   "cell_type": "markdown",
   "metadata": {},
   "source": [
    "Plot training/testing ROC-AUC score as a function of train size for L1-regularized and un-regularized regressions. We provided example plotting code with random data, you can use it as a template to generate two plots: one for the L1-regularized regression, and one for the un-regularized regression."
   ]
  },
  {
   "cell_type": "code",
   "execution_count": null,
   "metadata": {},
   "outputs": [],
   "source": [
    "########### Code #############\n",
    "\n",
    "# generate random data \n",
    "train_sizes = [0.2, 0.3, 0.4, 0.5, 0.6]\n",
    "y_auc = np.random.randn(5)\n",
    "y_uncer = np.random.uniform(0.2, 1, size=5)\n",
    "\n",
    "# Define plots \n",
    "plt.figure(figsize=(5,5))\n",
    "\n",
    "# first plot\n",
    "plt.errorbar(train_sizes, y_auc, y_uncer,\n",
    "             marker='o', color='blue', linestyle='--',\n",
    "             ms=10, mew=2, label='L1 train')\n",
    "\n",
    "# 2nd plot\n",
    "plt.errorbar(train_sizes, y_auc + 2, y_uncer, \n",
    "             marker='o', color='orange',  ms=10, linestyle='-', \n",
    "             mew=2, label='L1 test') # plotting for test score\n",
    "\n",
    "plt.xlabel('train sizes')\n",
    "plt.ylabel('AUC')\n",
    "plt.legend()\n",
    "plt.show()\n",
    "\n",
    "########### Code #############"
   ]
  },
  {
   "cell_type": "markdown",
   "metadata": {},
   "source": [
    "Comment  on  when  the  model  is  most  prone  to  poor generalization (i.e., a large gap between training and testing performance):  with or without regularization?  For large or small training set sizes?"
   ]
  },
  {
   "cell_type": "code",
   "execution_count": null,
   "metadata": {},
   "outputs": [],
   "source": [
    "########## Answer ############\n",
    "\n",
    "\n",
    "\n",
    "########## Answer ############"
   ]
  },
  {
   "cell_type": "markdown",
   "metadata": {},
   "source": [
    "# Problem 3 "
   ]
  },
  {
   "cell_type": "markdown",
   "metadata": {},
   "source": [
    "### 3.1"
   ]
  },
  {
   "cell_type": "markdown",
   "metadata": {},
   "source": [
    "Run crossvalidation for a Random Forest Classifier"
   ]
  },
  {
   "cell_type": "code",
   "execution_count": null,
   "metadata": {},
   "outputs": [],
   "source": [
    "########### Code #############\n",
    "\n",
    "\n",
    "\n",
    "########### Code #############"
   ]
  },
  {
   "cell_type": "markdown",
   "metadata": {},
   "source": [
    "Report the cross-validated ROC-AUC score "
   ]
  },
  {
   "cell_type": "code",
   "execution_count": null,
   "metadata": {},
   "outputs": [],
   "source": [
    "########## Answer ############\n",
    "\n",
    "print(\"The mean of CV scores is {}\".format(mean) )\n",
    "print(\"The std of CV scores is {}\".format(std) )\n",
    "\n",
    "########## Answer ############"
   ]
  },
  {
   "cell_type": "markdown",
   "metadata": {},
   "source": [
    "### 3.2"
   ]
  },
  {
   "cell_type": "code",
   "execution_count": null,
   "metadata": {},
   "outputs": [],
   "source": [
    "parameters = {'n_estimators': [40, 80, 160, 320, 640, 1280], \n",
    "              'min_samples_split': [8, 10, 12, 24], \n",
    "              'max_depth': [2, 4, 8]}"
   ]
  },
  {
   "cell_type": "markdown",
   "metadata": {},
   "source": [
    "Describe the total number of possible parameter combinations given the parameter ranges given."
   ]
  },
  {
   "cell_type": "code",
   "execution_count": null,
   "metadata": {},
   "outputs": [],
   "source": [
    "########## Answer ############\n",
    "\n",
    "print(\"There are {} different combinations\".format(N_comb))\n",
    "\n",
    "########## Answer ############"
   ]
  },
  {
   "cell_type": "markdown",
   "metadata": {},
   "source": [
    "Use the provided parameter set to run Grid Hyperparameter Search with Cross Validation "
   ]
  },
  {
   "cell_type": "code",
   "execution_count": null,
   "metadata": {},
   "outputs": [],
   "source": [
    "########### Code #############\n",
    "\n",
    "\n",
    "\n",
    "########### Code #############"
   ]
  },
  {
   "cell_type": "markdown",
   "metadata": {},
   "source": [
    "Report the obtained parameter set. Answer in code comments."
   ]
  },
  {
   "cell_type": "code",
   "execution_count": null,
   "metadata": {},
   "outputs": [],
   "source": [
    "########## Answer ############\n",
    "\n",
    "# The optimized parameter set is:\n",
    "# {\n",
    "#    'n_estimators': #answer,  \n",
    "#    'min_samples_split': #answer,\n",
    "#    'max_depth': #answer\n",
    "# }\n",
    "\n",
    "########## Answer ############"
   ]
  },
  {
   "cell_type": "markdown",
   "metadata": {},
   "source": [
    "Report the best cross-validation score from your Grid Search"
   ]
  },
  {
   "cell_type": "code",
   "execution_count": null,
   "metadata": {},
   "outputs": [],
   "source": [
    "########## Answer ############\n",
    "\n",
    "print(\"The best cross-validated AUC score is {}\".format(cv_auc))\n",
    "\n",
    "########## Answer ############"
   ]
  },
  {
   "cell_type": "markdown",
   "metadata": {},
   "source": [
    "validate on the validation( held-out) data with your best model "
   ]
  },
  {
   "cell_type": "code",
   "execution_count": null,
   "metadata": {},
   "outputs": [],
   "source": [
    "########### Code #############\n",
    "\n",
    "\n",
    "\n",
    "########### Code #############"
   ]
  },
  {
   "cell_type": "markdown",
   "metadata": {},
   "source": [
    "Report AUC score on the validation set"
   ]
  },
  {
   "cell_type": "code",
   "execution_count": null,
   "metadata": {},
   "outputs": [],
   "source": [
    "########## Answer ############\n",
    "\n",
    "print(\"The validation AUC score calculated with the best model is {}\".format(val_auc))\n",
    "\n",
    "########## Answer ############"
   ]
  }
 ],
 "metadata": {
  "kernelspec": {
   "display_name": "Python 3 (ipykernel)",
   "language": "python",
   "name": "python3"
  },
  "language_info": {
   "codemirror_mode": {
    "name": "ipython",
    "version": 3
   },
   "file_extension": ".py",
   "mimetype": "text/x-python",
   "name": "python",
   "nbconvert_exporter": "python",
   "pygments_lexer": "ipython3",
   "version": "3.9.7"
  }
 },
 "nbformat": 4,
 "nbformat_minor": 2
}
