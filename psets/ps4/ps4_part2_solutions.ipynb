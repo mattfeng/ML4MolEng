{
 "cells": [
  {
   "cell_type": "markdown",
   "metadata": {
    "deletable": false,
    "editable": false,
    "id": "WPPFDi2nLDDN",
    "run_control": {
     "frozen": true
    }
   },
   "source": [
    "#  <center> Problem Set 4 <center>\n",
    "<center> Spring 2021 <center>\n",
    "<center> 3.100/3.322, 10.402/10.602, 20.301/20.401 <center>\n",
    "<center> Due:10 pm ET on Thursday, Apr 22, 2021 <center>"
   ]
  },
  {
   "cell_type": "markdown",
   "metadata": {
    "deletable": false,
    "editable": false,
    "id": "u9wQfnRCLDDS",
    "run_control": {
     "frozen": true
    }
   },
   "source": [
    "## Part 2. SMILES-VAE"
   ]
  },
  {
   "cell_type": "markdown",
   "metadata": {
    "deletable": false,
    "editable": false,
    "id": "I0xzd3y7LDDT",
    "run_control": {
     "frozen": true
    }
   },
   "source": [
    "First, request a GPU by going to Edit/Notebook Settings/Hardware Accelerator."
   ]
  },
  {
   "cell_type": "code",
   "execution_count": 1,
   "metadata": {
    "id": "do_6vp_ALDDT"
   },
   "outputs": [],
   "source": [
    "# install RDKIT \n",
    "\n",
    "# This is a hack to install rdkit without needing to install anaconda which might take minutes \n",
    "# if you have anaconda installed, you can directly install rdkit from anaconda \n",
    "# url = 'https://anaconda.org/rdkit/rdkit/2018.09.1.0/download/linux-64/rdkit-2018.09.1.0-py36h71b666b_1.tar.bz2'\n",
    "# !curl -L $url | tar xj lib\n",
    "# !mv lib/python3.6/site-packages/rdkit /usr/local/lib/python3.7/dist-packages/\n",
    "\n",
    "# x86 = '/usr/lib/x86_64-linux-gnu'\n",
    "# !mv lib/*.so.* $x86/\n",
    "# !ln -s $x86/libboost_python3-py36.so.1.65.1 $x86/libboost_python3.so.1.65.1\n",
    "\n",
    "# Install tqdm progress bar \n",
    "# !pip install tqdm "
   ]
  },
  {
   "cell_type": "code",
   "execution_count": 2,
   "metadata": {
    "id": "5jg-DK_WLDDU"
   },
   "outputs": [],
   "source": [
    "# Optional: mount your google drive to save model and files \n",
    "\n",
    "# from google.colab import drive\n",
    "# drive.mount('/content/drive')\n",
    "# mydrive = '/content/drive/MyDrive'"
   ]
  },
  {
   "cell_type": "code",
   "execution_count": 92,
   "metadata": {
    "deletable": false,
    "editable": false,
    "id": "6znwa9MnLDDU"
   },
   "outputs": [],
   "source": [
    "import numpy as np\n",
    "\n",
    "import torch\n",
    "import torch.utils.data\n",
    "import torch.nn.functional as F\n",
    "from torch import nn, optim\n",
    "from torch.utils.data import DataLoader, TensorDataset\n",
    "\n",
    "import pandas as pd\n",
    "import random\n",
    "\n",
    "from tqdm import tqdm\n",
    "\n",
    "from sklearn.preprocessing import LabelEncoder\n",
    "from sklearn.model_selection import train_test_split\n",
    "\n",
    "from rdkit import Chem\n",
    "from rdkit.Chem import Draw\n",
    "from rdkit.Chem.Draw import IPythonConsole\n",
    "from rdkit import RDLogger   \n",
    "RDLogger.DisableLog('rdApp.*')"
   ]
  },
  {
   "cell_type": "markdown",
   "metadata": {
    "deletable": false,
    "editable": false,
    "run_control": {
     "frozen": true
    }
   },
   "source": [
    "### Get data"
   ]
  },
  {
   "cell_type": "code",
   "execution_count": 4,
   "metadata": {
    "id": "gf8x8c43LDDU"
   },
   "outputs": [],
   "source": [
    "# Get data \n",
    "# ! wget https://raw.githubusercontent.com/wwang2/ML4MolEng/master/psets/ps4/data/zinc_50k.csv\n",
    "    \n",
    "# Get pretrained VAE model \n",
    "# ! wget -O vae_checkpoint.pth https://github.com/wwang2/ML4MolEng/blob/master/psets/ps4/pretrained_checkpoints/vae-050-0.06.pth?raw=true"
   ]
  },
  {
   "cell_type": "code",
   "execution_count": 5,
   "metadata": {
    "deletable": false,
    "editable": false
   },
   "outputs": [],
   "source": [
    "params = {\n",
    "    \"batch_size\": 512\n",
    "}"
   ]
  },
  {
   "cell_type": "markdown",
   "metadata": {
    "deletable": false,
    "editable": false,
    "id": "355HMSjvLDDV",
    "run_control": {
     "frozen": true
    }
   },
   "source": [
    "### 1.1 One-hot encode SMILES strings into padded numerical vectors"
   ]
  },
  {
   "cell_type": "code",
   "execution_count": 6,
   "metadata": {
    "deletable": false,
    "editable": false,
    "id": "HhdMBRF3LDDV"
   },
   "outputs": [],
   "source": [
    "from sklearn import preprocessing\n",
    "\n",
    "# Character list for SMILES string\n",
    "moses_charset = [\"2\", \"o\", \"C\", \"I\", \"O\", \"H\", \"n\", \"N\", \"=\", \"+\", \"#\", \"-\", \"c\",\n",
    "                 \"B\", \"l\", \"7\", \"r\", \"S\", \"s\", \"4\", \"6\", \"[\", \"5\", \"]\", \"F\", \"3\", \n",
    "                 \"P\", \"(\", \")\", \"1\", \" \"]\n",
    "\n",
    "# Define encoder \n",
    "enc = preprocessing.LabelEncoder().fit(moses_charset)\n",
    "\n",
    "# Read data \n",
    "df = pd.read_csv(\"./data/zinc_50k.csv\")"
   ]
  },
  {
   "cell_type": "markdown",
   "metadata": {
    "deletable": false,
    "editable": false,
    "id": "Fumu4UArLDDV",
    "run_control": {
     "frozen": true
    }
   },
   "source": [
    "Encode SMILES string into padded categorial vectors."
   ]
  },
  {
   "cell_type": "code",
   "execution_count": 7,
   "metadata": {
    "deletable": false,
    "editable": false
   },
   "outputs": [],
   "source": [
    "################ Code #################\n",
    "\n",
    "smiles_strings = list(df[\"SMILES\"])\n",
    "max_len = max(map(lambda x: len(x), smiles_strings))\n",
    "\n",
    "smiles_encoded = []\n",
    "for smiles in smiles_strings:\n",
    "    padded = list(smiles + \" \" * (max_len - len(smiles)))\n",
    "    encoded = enc.transform(padded)\n",
    "    smiles_encoded.append(encoded)\n",
    "\n",
    "################ Code #################"
   ]
  },
  {
   "cell_type": "markdown",
   "metadata": {
    "deletable": false,
    "editable": false,
    "id": "39Na-oiOLDDW",
    "run_control": {
     "frozen": true
    }
   },
   "source": [
    "Make train/validation/test datasets."
   ]
  },
  {
   "cell_type": "code",
   "execution_count": 8,
   "metadata": {
    "deletable": false,
    "editable": false,
    "id": "AP580LJHLDDW"
   },
   "outputs": [],
   "source": [
    "################ Code #################\n",
    "\n",
    "smiles_enc_train, smiles_enc_valtest = train_test_split(smiles_encoded, train_size=7/10)\n",
    "smiles_enc_val, smiles_enc_test = train_test_split(smiles_enc_valtest, test_size=2/3)\n",
    "\n",
    "X_train = TensorDataset(\n",
    "        torch.LongTensor(np.array(smiles_enc_train))\n",
    "    )\n",
    "X_val = TensorDataset(\n",
    "        torch.LongTensor(np.array(smiles_enc_val))\n",
    "    )\n",
    "X_test = TensorDataset(\n",
    "        torch.LongTensor(np.array(smiles_enc_test))\n",
    "    )\n",
    "\n",
    "train_loader = DataLoader(X_train, batch_size=params[\"batch_size\"], shuffle=False)\n",
    "val_loader = DataLoader(X_val, batch_size=params[\"batch_size\"], shuffle=False)\n",
    "test_loader = DataLoader(X_test, batch_size=params[\"batch_size\"], shuffle=False)\n",
    "\n",
    "################ Code #################"
   ]
  },
  {
   "cell_type": "markdown",
   "metadata": {
    "deletable": false,
    "editable": false,
    "id": "8UQEv61MLDDW",
    "run_control": {
     "frozen": true
    }
   },
   "source": [
    "### 1.2 Implement the reparametrization trick for VAE"
   ]
  },
  {
   "cell_type": "code",
   "execution_count": 9,
   "metadata": {
    "deletable": false,
    "editable": false,
    "id": "Ol5NTLLELDDW"
   },
   "outputs": [],
   "source": [
    "# Molecular VAE model \n",
    "\n",
    "class MolVAE(nn.Module):\n",
    "    def __init__(self, rnn_enc_hid_dim, enc_nconv,\n",
    "               encoder_hid, z_dim, \n",
    "               rnn_dec_hid_dim, dec_nconv, smiles_len, nchar\n",
    "           ):\n",
    "        \"\"\"\n",
    "        SMILES VAE model \n",
    "\n",
    "            rnn_enc_hid_dim: hidden dimension for the GRU encoder \n",
    "            enc_nconv: number of recurrent layers for the GRU decoder\n",
    "            encoder_hid: dimension of GUR encoder readout\n",
    "            z_dim: number of latent variable \n",
    "            rnn_dec_hid_dim: hidden dimension for the GRU decoder \n",
    "            dec_nconv: number of recurrent layers for the GRU decoder\n",
    "            smiles_len: total length of padded SMILES string \n",
    "            nchar: number of possible characters \n",
    "        \"\"\"\n",
    "        super(MolVAE, self).__init__()\n",
    "        \n",
    "        self.smiles_len = smiles_len\n",
    "        self.nchar = nchar\n",
    "        # Embedding layer\n",
    "        self.embed = nn.Embedding(self.nchar, rnn_enc_hid_dim)\n",
    "        # Encoding GRU\n",
    "        self.rnn_enc = nn.GRU(rnn_enc_hid_dim, rnn_enc_hid_dim, enc_nconv, batch_first=True)\n",
    "        # MLP to transfrom hidden output from Encoding GRU\n",
    "        self.mlp0 = nn.Linear(rnn_enc_hid_dim, encoder_hid)\n",
    "        # Network to parametrize mu\n",
    "        self.mu_network = nn.Linear(encoder_hid, z_dim)\n",
    "        # Network to parametrize log variance\n",
    "        self.logvar_network = nn.Linear(encoder_hid, z_dim)\n",
    "        # Decoding GRU\n",
    "        self.rnn_dec = nn.GRU(z_dim, rnn_dec_hid_dim, dec_nconv, batch_first=True)\n",
    "        # Output SMILES characters\n",
    "        self.readout = nn.Linear(rnn_dec_hid_dim, self.nchar)\n",
    "\n",
    "    def encode(self, x):\n",
    "        \"\"\"output mean and logVariance of the encoded SMILES\"\"\"\n",
    "        output, hn = self.rnn_enc(x)\n",
    "        h = F.relu(self.mlp0(hn[-1]))\n",
    "        return self.mu_network(h), self.logvar_network(h)\n",
    "    \n",
    "    def get_std(self, logvar):\n",
    "        \"\"\"transform log variance to standard deviation\"\"\"\n",
    "        ################ Code #################\n",
    "        logvar = torch.exp(0.5 * logvar)\n",
    "        return logvar\n",
    "        ################ Code #################\n",
    "\n",
    "    def reparameterize(self, mu, std):\n",
    "        \"\"\"the reparametrization trick\"\"\"\n",
    "        if self.training:\n",
    "            ################ Code #################\n",
    "            r = torch.randn_like(mu)\n",
    "            z = mu + std * r\n",
    "            return z\n",
    "           ################ Code ################# \n",
    "        else:\n",
    "            return mu\n",
    "\n",
    "    def decode(self, z):\n",
    "        \"\"\"decoder to reconstruct latent variable back to SMILES\"\"\"\n",
    "        z = z.view(z.size(0), 1, z.size(-1)).repeat(1, self.smiles_len, 1)\n",
    "        out, h = self.rnn_dec(z)\n",
    "        out_reshape = out.contiguous().view(-1, out.size(-1))\n",
    "        \n",
    "        y0 = self.readout(out_reshape)\n",
    "        y = y0.contiguous().view(out.size(0), -1, y0.size(-1))\n",
    "        return y\n",
    "\n",
    "    def forward(self, x):\n",
    "        x_embed = self.embed(x) # Get SMILES embedding \n",
    "        mu, logvar = self.encode(x_embed) # Encoding SMILES to latent representations \n",
    "        std = self.get_std(logvar) # transform log variance to std.\n",
    "        z = self.reparameterize(mu, std) # reparametrization trick \n",
    "        smiles_recon = self.decode(z)  # reconstruct SMILES string \n",
    "        return smiles_recon, mu, std"
   ]
  },
  {
   "cell_type": "code",
   "execution_count": 10,
   "metadata": {
    "deletable": false,
    "editable": false,
    "id": "OLvF-dGdLDDX"
   },
   "outputs": [],
   "source": [
    "################ Code #################\n",
    "\n",
    "model = MolVAE(rnn_enc_hid_dim=367, enc_nconv=2, \n",
    "    encoder_hid=512, z_dim=171, rnn_dec_hid_dim=512,\n",
    "    dec_nconv=1, nchar=31, smiles_len=max_len\n",
    "    )\n",
    "\n",
    "for i in train_loader:\n",
    "    i = i[0]\n",
    "    out, mu, std = model.forward(i)\n",
    "    break\n",
    "\n",
    "################ Code #################"
   ]
  },
  {
   "cell_type": "markdown",
   "metadata": {
    "deletable": false,
    "editable": false,
    "id": "qwyf09mALxZm",
    "run_control": {
     "frozen": true
    }
   },
   "source": [
    "Sample a 1D Gaussian distribution with mean = 0, std = 1."
   ]
  },
  {
   "cell_type": "code",
   "execution_count": 11,
   "metadata": {
    "deletable": false,
    "editable": false
   },
   "outputs": [],
   "source": [
    "model = MolVAE(rnn_enc_hid_dim=367, enc_nconv=2, \n",
    "    encoder_hid=512, z_dim=171, rnn_dec_hid_dim=512,\n",
    "    dec_nconv=1, nchar=31, smiles_len=max_len\n",
    "    )\n",
    "\n",
    "mu = np.zeros(1000)\n",
    "std = np.ones(1000)\n",
    "sample = model.reparameterize(torch.Tensor(mu), torch.Tensor(std))"
   ]
  },
  {
   "cell_type": "code",
   "execution_count": 12,
   "metadata": {
    "deletable": false,
    "editable": false,
    "id": "_lP9coMuLDDY"
   },
   "outputs": [
    {
     "data": {
      "image/png": "[encoded data removed]",
      "text/plain": [
       "<Figure size 432x288 with 1 Axes>"
      ]
     },
     "metadata": {
      "needs_background": "light"
     },
     "output_type": "display_data"
    }
   ],
   "source": [
    "# Compare your sampling with N(0, 1)\n",
    "\n",
    "import matplotlib.pyplot as plt\n",
    "from scipy.stats import norm\n",
    "\n",
    "plt.hist(sample.detach().cpu().numpy(), density=True)\n",
    "\n",
    "# Plot a 1d unit Gaussian \n",
    "x_axis = np.arange(-7, 7, 0.001)\n",
    "plt.plot(x_axis, norm.pdf(x_axis,0,1)) # Mean = 0, SD = 1.\n",
    "plt.show()\n"
   ]
  },
  {
   "cell_type": "markdown",
   "metadata": {
    "deletable": false,
    "editable": false,
    "id": "0WLmVkJKLDDY",
    "run_control": {
     "frozen": true
    }
   },
   "source": [
    "### 1.3 Implement the SMILES VAE loss function"
   ]
  },
  {
   "cell_type": "code",
   "execution_count": 42,
   "metadata": {
    "deletable": false,
    "editable": false,
    "id": "IgkqLI_jLDDY"
   },
   "outputs": [],
   "source": [
    "def loss_function(recon_x, x, mu, var):\n",
    "    ################ Code #################\n",
    "    \n",
    "    # reconstruction loss \n",
    "    L_recon = F.cross_entropy(recon_x.swapaxes(1, 2), x)\n",
    "    # KL loss\n",
    "    L_kl = torch.mean(\n",
    "        0.5 * torch.sum(torch.square(mu) + var - torch.log(var) - 1, dim=1),\n",
    "        dim=0)\n",
    "    \n",
    "    ################ Code #################\n",
    "    return L_recon, L_kl"
   ]
  },
  {
   "cell_type": "code",
   "execution_count": 43,
   "metadata": {
    "deletable": false,
    "editable": false,
    "id": "W9Svto16LDDZ"
   },
   "outputs": [],
   "source": [
    "# Helper functions \n",
    "def index2smiles(mol_index, enc):\n",
    "    '''Transform Your An array of character index back to SMILES'''\n",
    "    smiles_charlist = enc.inverse_transform(mol_index)\n",
    "    smiles = ''.join(smiles_charlist).strip(\" \")\n",
    "    \n",
    "    return smiles\n",
    "\n",
    "def check_smiles_valid(smiles):\n",
    "    '''Check if SMILES string is valid'''\n",
    "    mol = Chem.MolFromSmiles(smiles)\n",
    "    if mol:\n",
    "        valid = True \n",
    "    else:\n",
    "        valid = False \n",
    "    return valid\n",
    "\n",
    "def sample_recon(model, epoch, dataloader, enc, n_sample=500):\n",
    "    '''Randomly sample from data loader to get reconstructed SMILES and test if it is valid'''\n",
    "    # evaluation mode \n",
    "    model.eval()\n",
    "    \n",
    "    # Randomly select samples \n",
    "    random_mol = random.choices( range( len(dataloader.dataset) ), k=n_sample)\n",
    "    x_mol = train_loader.dataset.__getitem__(random_mol)[0]\n",
    "    x_mol = x_mol.to(device)\n",
    "    \n",
    "    # Get reconstructed Molecule \n",
    "    mol_recon, mu, logvar = model(x_mol)\n",
    "    mol_index = mol_recon.detach().cpu().numpy().argmax(-1).squeeze()\n",
    "    mol_orig = x_mol.detach().cpu().numpy()\n",
    "    \n",
    "    # Show the first reconstructed SMILES\n",
    "    print(\"epoch {} sample orig SMILES: {}\".format(epoch,  index2smiles(mol_orig[0], enc)))\n",
    "    print(\"epoch {} sample recon SMILES: {}\".format(epoch,  index2smiles(mol_index[0], enc)))\n",
    "    \n",
    "    valid_count = 0 \n",
    "    for indexed_smiles in mol_index:\n",
    "        smiles = index2smiles(indexed_smiles, enc)\n",
    "        valid = check_smiles_valid(smiles)\n",
    "        \n",
    "        if valid: \n",
    "            valid_count += 1\n",
    "    \n",
    "    print(\"{}/{} SMILES are valid\".format(valid_count, n_sample))\n",
    "\n",
    "def loop(model, loader, epoch, beta=0.05, evaluation=False):\n",
    "    \"\"\"\n",
    "    Train/test your VAE model\n",
    "    \"\"\"\n",
    "    \n",
    "    if evaluation:\n",
    "        model.eval()\n",
    "        mode = \"eval\"\n",
    "    else:\n",
    "        model.train()\n",
    "        mode = 'train'\n",
    "    batch_losses = []\n",
    "        \n",
    "    tqdm_data = tqdm(loader, position=0, leave=True, desc='{} (epoch #{})'.format(mode, epoch))\n",
    "    for data in tqdm_data:\n",
    "        \n",
    "        x = data[0].to(device)\n",
    "        recon_batch, mu, std = model(x)\n",
    "        loss_recon, loss_kl = loss_function(recon_batch, x, mu, std)\n",
    "        loss = loss_recon + beta * loss_kl     \n",
    "        \n",
    "        if not evaluation:\n",
    "            optimizer.zero_grad()\n",
    "            loss.backward()\n",
    "            optimizer.step()\n",
    "\n",
    "        batch_losses.append(loss.item())\n",
    "\n",
    "        postfix = ['recon loss={:.3f}'.format(loss_recon.item()) ,\n",
    "                   'KL loss={:.3f}'.format(loss_kl.item()) ,\n",
    "                   'total loss={:.3f}'.format(loss.item()) , \n",
    "                   'avg. loss={:.3f}'.format(np.array(batch_losses).mean())]\n",
    "        \n",
    "        tqdm_data.set_postfix_str(' '.join(postfix))\n",
    "    \n",
    "    return np.array(batch_losses).mean()"
   ]
  },
  {
   "cell_type": "markdown",
   "metadata": {
    "deletable": false,
    "editable": false,
    "id": "0k_6FrCpLDDZ",
    "run_control": {
     "frozen": true
    }
   },
   "source": [
    "### 1.4  Train your model"
   ]
  },
  {
   "cell_type": "code",
   "execution_count": 50,
   "metadata": {
    "deletable": false,
    "editable": false,
    "id": "dQ6CG8DiLDDa"
   },
   "outputs": [
    {
     "data": {
      "text/plain": [
       "<All keys matched successfully>"
      ]
     },
     "execution_count": 50,
     "metadata": {},
     "output_type": "execute_result"
    }
   ],
   "source": [
    "device = 0\n",
    "\n",
    "model = MolVAE(rnn_enc_hid_dim=367, enc_nconv=2, \n",
    "    encoder_hid=512, z_dim=171, rnn_dec_hid_dim=512,\n",
    "    dec_nconv=1, nchar=31, smiles_len=max_len\n",
    "    )\n",
    "                      \n",
    "model = model.to(device)\n",
    "\n",
    "# load pretrained model \n",
    "model.load_state_dict(torch.load(\"./pretrained_checkpoints/vae-050-0.06.pth\"))"
   ]
  },
  {
   "cell_type": "code",
   "execution_count": 51,
   "metadata": {
    "id": "BgHPDig-LDDa"
   },
   "outputs": [],
   "source": [
    "# optimizer = optim.Adam(model.parameters(), lr=5e-5)\n",
    "# scheduler = optim.lr_scheduler.ReduceLROnPlateau(optimizer, 'min', factor=0.5, patience=5, verbose=True)"
   ]
  },
  {
   "cell_type": "code",
   "execution_count": 53,
   "metadata": {
    "id": "IayKlIjoLDDa",
    "scrolled": true
   },
   "outputs": [
    {
     "name": "stdout",
     "output_type": "stream",
     "text": [
      "epoch 0 sample orig SMILES: O=C(Nc1ccc2cn[nH]c2c1)c1csc(Nc2ncccn2)n1\n",
      "epoch 0 sample recon SMILES: O=C(Nc1ccc2cn[nH]c2c1)c1ccc(NCc2ccccc2)n1\n",
      "123/500 SMILES are valid\n"
     ]
    },
    {
     "name": "stderr",
     "output_type": "stream",
     "text": [
      "train (epoch #0): 100%|██████████████████| 69/69 [00:07<00:00,  9.79it/s, recon loss=0.027 KL loss=68.501 total loss=0.095 avg. loss=0.172]\n",
      "eval (epoch #0): 100%|███████████████████| 10/10 [00:00<00:00, 32.74it/s, recon loss=0.026 KL loss=69.277 total loss=0.095 avg. loss=0.095]\n"
     ]
    },
    {
     "name": "stdout",
     "output_type": "stream",
     "text": [
      "epoch 1 sample orig SMILES: CN(C)S(=O)(=O)c1cc(NC(=O)c2ccccn2)ccc1Cl\n",
      "epoch 1 sample recon SMILES: CN(C)S(=O)(=O)c1cc(NC(=O)c2ccccn2)ccc1Cl\n",
      "430/500 SMILES are valid\n"
     ]
    },
    {
     "name": "stderr",
     "output_type": "stream",
     "text": [
      "train (epoch #1): 100%|██████████████████| 69/69 [00:07<00:00,  9.38it/s, recon loss=0.028 KL loss=64.488 total loss=0.093 avg. loss=0.100]\n",
      "eval (epoch #1): 100%|███████████████████| 10/10 [00:00<00:00, 33.00it/s, recon loss=0.025 KL loss=65.285 total loss=0.090 avg. loss=0.090]\n"
     ]
    },
    {
     "name": "stdout",
     "output_type": "stream",
     "text": [
      "epoch 2 sample orig SMILES: O=S(=O)(c1ccc(-c2ccccn2)s1)N1CCCCC1\n",
      "epoch 2 sample recon SMILES: O=S(=O)(c1ccc(-c2ccccn2)s1)N1CCCCC1\n",
      "446/500 SMILES are valid\n"
     ]
    },
    {
     "name": "stderr",
     "output_type": "stream",
     "text": [
      "train (epoch #2): 100%|██████████████████| 69/69 [00:07<00:00,  9.82it/s, recon loss=0.029 KL loss=64.296 total loss=0.093 avg. loss=0.098]\n",
      "eval (epoch #2): 100%|███████████████████| 10/10 [00:00<00:00, 32.83it/s, recon loss=0.025 KL loss=65.138 total loss=0.090 avg. loss=0.090]\n"
     ]
    },
    {
     "name": "stdout",
     "output_type": "stream",
     "text": [
      "epoch 3 sample orig SMILES: Cc1nc(Nc2ncnc(-n3cnc4ccccc43)c2N)sc1C\n",
      "epoch 3 sample recon SMILES: Cc1nc(Nc2ccnc(Nn3nnc4ccccc33)c2N)s1CC\n",
      "444/500 SMILES are valid\n"
     ]
    },
    {
     "name": "stderr",
     "output_type": "stream",
     "text": [
      "train (epoch #3): 100%|██████████████████| 69/69 [00:07<00:00,  9.82it/s, recon loss=0.024 KL loss=64.636 total loss=0.088 avg. loss=0.098]\n",
      "eval (epoch #3): 100%|███████████████████| 10/10 [00:00<00:00, 32.84it/s, recon loss=0.025 KL loss=65.369 total loss=0.091 avg. loss=0.090]\n"
     ]
    },
    {
     "name": "stdout",
     "output_type": "stream",
     "text": [
      "epoch 4 sample orig SMILES: CCc1ccc(S(=O)(=O)Nc2ccc(N)c(F)c2)cc1\n",
      "epoch 4 sample recon SMILES: CCc1ccc(S(=O)(=O)Nc2ccc(N)c(F)c2)cc1\n",
      "443/500 SMILES are valid\n"
     ]
    },
    {
     "name": "stderr",
     "output_type": "stream",
     "text": [
      "train (epoch #4): 100%|██████████████████| 69/69 [00:07<00:00,  9.56it/s, recon loss=0.027 KL loss=63.432 total loss=0.090 avg. loss=0.097]\n",
      "eval (epoch #4): 100%|███████████████████| 10/10 [00:00<00:00, 32.49it/s, recon loss=0.026 KL loss=64.203 total loss=0.090 avg. loss=0.089]\n"
     ]
    },
    {
     "name": "stdout",
     "output_type": "stream",
     "text": [
      "epoch 5 sample orig SMILES: Cc1ccccc1OCC(=O)NCCc1nnc(-c2ccccc2)o1\n",
      "epoch 5 sample recon SMILES: Cc1ccccc1OCC(=O)NCCc1nnc(-c2ccccc2)o1\n",
      "443/500 SMILES are valid\n"
     ]
    },
    {
     "name": "stderr",
     "output_type": "stream",
     "text": [
      "train (epoch #5): 100%|██████████████████| 69/69 [00:07<00:00,  9.51it/s, recon loss=0.023 KL loss=63.285 total loss=0.086 avg. loss=0.095]\n",
      "eval (epoch #5): 100%|███████████████████| 10/10 [00:00<00:00, 32.90it/s, recon loss=0.026 KL loss=64.201 total loss=0.090 avg. loss=0.089]\n"
     ]
    },
    {
     "name": "stdout",
     "output_type": "stream",
     "text": [
      "epoch 6 sample orig SMILES: O=C(NCCCNC(=O)c1scnc1C1CC1)c1ccc(O)cc1\n",
      "epoch 6 sample recon SMILES: O=C(NCCCNC(=O)c1scnc1C1CC1)c1ccc(O)cc1\n",
      "457/500 SMILES are valid\n"
     ]
    },
    {
     "name": "stderr",
     "output_type": "stream",
     "text": [
      "train (epoch #6): 100%|██████████████████| 69/69 [00:07<00:00,  9.35it/s, recon loss=0.023 KL loss=62.853 total loss=0.086 avg. loss=0.095]\n",
      "eval (epoch #6): 100%|███████████████████| 10/10 [00:00<00:00, 32.97it/s, recon loss=0.026 KL loss=63.632 total loss=0.089 avg. loss=0.088]\n"
     ]
    },
    {
     "name": "stdout",
     "output_type": "stream",
     "text": [
      "epoch 7 sample orig SMILES: CSc1ccccc1NC(=O)c1c[nH]c2ccccc12\n",
      "epoch 7 sample recon SMILES: CSc1ccccc1NC(=O)c1c[nH]c2ccccc12\n",
      "444/500 SMILES are valid\n"
     ]
    },
    {
     "name": "stderr",
     "output_type": "stream",
     "text": [
      "train (epoch #7): 100%|██████████████████| 69/69 [00:07<00:00,  9.64it/s, recon loss=0.023 KL loss=62.762 total loss=0.085 avg. loss=0.094]\n",
      "eval (epoch #7): 100%|███████████████████| 10/10 [00:00<00:00, 32.73it/s, recon loss=0.025 KL loss=63.564 total loss=0.089 avg. loss=0.088]\n"
     ]
    },
    {
     "name": "stdout",
     "output_type": "stream",
     "text": [
      "epoch 8 sample orig SMILES: N#Cc1ccc(OCCOC(=O)c2ccco2)cc1\n",
      "epoch 8 sample recon SMILES: N#Cc1ccc(OCCOC(=O)c2ccco2)cc1\n",
      "448/500 SMILES are valid\n"
     ]
    },
    {
     "name": "stderr",
     "output_type": "stream",
     "text": [
      "train (epoch #8): 100%|██████████████████| 69/69 [00:07<00:00,  9.51it/s, recon loss=0.022 KL loss=61.403 total loss=0.084 avg. loss=0.093]\n",
      "eval (epoch #8): 100%|███████████████████| 10/10 [00:00<00:00, 32.21it/s, recon loss=0.025 KL loss=62.209 total loss=0.087 avg. loss=0.087]\n"
     ]
    },
    {
     "name": "stdout",
     "output_type": "stream",
     "text": [
      "epoch 9 sample orig SMILES: NC(=O)NCc1ccc(C(=O)OCC2CC2(Cl)Cl)cc1\n",
      "epoch 9 sample recon SMILES: NC(=O)NCc1ccc(C(=O)OCC2CC2(Cl)Cl)cc1\n",
      "450/500 SMILES are valid\n"
     ]
    },
    {
     "name": "stderr",
     "output_type": "stream",
     "text": [
      "train (epoch #9): 100%|██████████████████| 69/69 [00:07<00:00,  9.80it/s, recon loss=0.023 KL loss=61.899 total loss=0.085 avg. loss=0.092]\n",
      "eval (epoch #9): 100%|███████████████████| 10/10 [00:00<00:00, 32.82it/s, recon loss=0.024 KL loss=62.741 total loss=0.087 avg. loss=0.087]\n"
     ]
    },
    {
     "name": "stdout",
     "output_type": "stream",
     "text": [
      "epoch 10 sample orig SMILES: COCCN1CCN(C(=O)c2ccnc(-n3ccnc3)c2)CC1=O\n",
      "epoch 10 sample recon SMILES: COCCN1CCN(C(=O)c2ccnc(-n3ccnc3)c2)CC1=O\n",
      "451/500 SMILES are valid\n"
     ]
    },
    {
     "name": "stderr",
     "output_type": "stream",
     "text": [
      "train (epoch #10): 100%|█████████████████| 69/69 [00:07<00:00,  9.58it/s, recon loss=0.021 KL loss=61.247 total loss=0.082 avg. loss=0.092]\n",
      "eval (epoch #10): 100%|██████████████████| 10/10 [00:00<00:00, 32.80it/s, recon loss=0.025 KL loss=62.012 total loss=0.087 avg. loss=0.086]\n"
     ]
    },
    {
     "name": "stdout",
     "output_type": "stream",
     "text": [
      "epoch 11 sample orig SMILES: Cc1csc(=O)n1CCC(=O)Oc1ccc(C#N)cc1\n",
      "epoch 11 sample recon SMILES: Cc1csc(=O)n1CCC(=O)Oc1ccc(C#N)cc1\n",
      "436/500 SMILES are valid\n"
     ]
    },
    {
     "name": "stderr",
     "output_type": "stream",
     "text": [
      "train (epoch #11): 100%|█████████████████| 69/69 [00:07<00:00,  9.57it/s, recon loss=0.021 KL loss=64.180 total loss=0.085 avg. loss=0.092]\n",
      "eval (epoch #11): 100%|██████████████████| 10/10 [00:00<00:00, 32.81it/s, recon loss=0.026 KL loss=65.180 total loss=0.091 avg. loss=0.090]\n"
     ]
    },
    {
     "name": "stdout",
     "output_type": "stream",
     "text": [
      "epoch 12 sample orig SMILES: Cc1cnn(CCC(=O)N2CC(C)CN(C)c3ccccc32)c1\n",
      "epoch 12 sample recon SMILES: Cc1cnn(CCC(=O)N2CC(C)NN(C)c3ccccc32)c1\n",
      "438/500 SMILES are valid\n"
     ]
    },
    {
     "name": "stderr",
     "output_type": "stream",
     "text": [
      "train (epoch #12): 100%|█████████████████| 69/69 [00:07<00:00,  9.50it/s, recon loss=0.020 KL loss=61.475 total loss=0.081 avg. loss=0.093]\n",
      "eval (epoch #12): 100%|██████████████████| 10/10 [00:00<00:00, 32.79it/s, recon loss=0.025 KL loss=62.282 total loss=0.087 avg. loss=0.087]\n"
     ]
    },
    {
     "name": "stdout",
     "output_type": "stream",
     "text": [
      "epoch 13 sample orig SMILES: CC(Cc1ccccc1F)NC(=O)c1scnc1C1CC1\n",
      "epoch 13 sample recon SMILES: CC(Cc1ccccc1F)NC(=O)c1scnc1C1CC1\n",
      "452/500 SMILES are valid\n"
     ]
    },
    {
     "name": "stderr",
     "output_type": "stream",
     "text": [
      "train (epoch #13): 100%|█████████████████| 69/69 [00:07<00:00,  9.52it/s, recon loss=0.020 KL loss=61.587 total loss=0.082 avg. loss=0.091]\n",
      "eval (epoch #13): 100%|██████████████████| 10/10 [00:00<00:00, 32.49it/s, recon loss=0.025 KL loss=62.400 total loss=0.087 avg. loss=0.087]\n"
     ]
    },
    {
     "name": "stdout",
     "output_type": "stream",
     "text": [
      "epoch 14 sample orig SMILES: O=C(Nc1ccc(Br)cc1)c1cccc(O)c1\n",
      "epoch 14 sample recon SMILES: O=C(Nc1ccc(Br)cc1)c1cccc(O)c1\n",
      "446/500 SMILES are valid\n"
     ]
    },
    {
     "name": "stderr",
     "output_type": "stream",
     "text": [
      "train (epoch #14): 100%|█████████████████| 69/69 [00:07<00:00,  9.71it/s, recon loss=0.022 KL loss=61.180 total loss=0.083 avg. loss=0.091]\n",
      "eval (epoch #14): 100%|██████████████████| 10/10 [00:00<00:00, 32.61it/s, recon loss=0.025 KL loss=61.815 total loss=0.086 avg. loss=0.086]\n"
     ]
    },
    {
     "name": "stdout",
     "output_type": "stream",
     "text": [
      "epoch 15 sample orig SMILES: Cc1c(C(=O)Nc2nc3ccccc3s2)nnn1Cc1ccccc1\n",
      "epoch 15 sample recon SMILES: Cc1c(C(=O)Nc2nc3ccccc3s2)nnn1Cc1ccccc1\n",
      "444/500 SMILES are valid\n"
     ]
    },
    {
     "name": "stderr",
     "output_type": "stream",
     "text": [
      "train (epoch #15): 100%|█████████████████| 69/69 [00:07<00:00,  9.48it/s, recon loss=0.032 KL loss=67.592 total loss=0.099 avg. loss=0.102]\n",
      "eval (epoch #15): 100%|██████████████████| 10/10 [00:00<00:00, 32.68it/s, recon loss=0.043 KL loss=68.261 total loss=0.111 avg. loss=0.106]\n"
     ]
    },
    {
     "name": "stdout",
     "output_type": "stream",
     "text": [
      "epoch 16 sample orig SMILES: Cc1nn(C)c(C)c1CN(C(=O)C1COc2ccccc2C1)C(C)C\n",
      "epoch 16 sample recon SMILES: Cc1nn(C)c(C)c1CN(C(=O)C1COc2ccccc2C1)C(C)C\n",
      "427/500 SMILES are valid\n"
     ]
    },
    {
     "name": "stderr",
     "output_type": "stream",
     "text": [
      "train (epoch #16): 100%|█████████████████| 69/69 [00:07<00:00,  9.81it/s, recon loss=0.020 KL loss=63.889 total loss=0.084 avg. loss=0.100]\n",
      "eval (epoch #16): 100%|██████████████████| 10/10 [00:00<00:00, 32.53it/s, recon loss=0.027 KL loss=64.579 total loss=0.092 avg. loss=0.090]\n"
     ]
    },
    {
     "name": "stdout",
     "output_type": "stream",
     "text": [
      "epoch 17 sample orig SMILES: Cc1ccc(NC(=O)c2nc(-c3cccs3)oc2C)nc1\n",
      "epoch 17 sample recon SMILES: Cc1ccc(NC(=O)c2nc(-c3ccco3)oc2C)nc1\n",
      "449/500 SMILES are valid\n"
     ]
    },
    {
     "name": "stderr",
     "output_type": "stream",
     "text": [
      "train (epoch #17): 100%|█████████████████| 69/69 [00:07<00:00,  9.57it/s, recon loss=0.020 KL loss=61.710 total loss=0.082 avg. loss=0.092]\n",
      "eval (epoch #17): 100%|██████████████████| 10/10 [00:00<00:00, 33.23it/s, recon loss=0.027 KL loss=62.439 total loss=0.090 avg. loss=0.087]\n"
     ]
    },
    {
     "name": "stdout",
     "output_type": "stream",
     "text": [
      "epoch 18 sample orig SMILES: Cc1cccc(NC(=O)NCCNc2ccc(-n3cccn3)nn2)c1\n",
      "epoch 18 sample recon SMILES: Cc1cccc(NC(=O)NCCNc2ccc(-n3cccn3)nn2)c1\n",
      "449/500 SMILES are valid\n"
     ]
    },
    {
     "name": "stderr",
     "output_type": "stream",
     "text": [
      "train (epoch #18): 100%|█████████████████| 69/69 [00:07<00:00,  9.53it/s, recon loss=0.019 KL loss=61.467 total loss=0.080 avg. loss=0.091]\n",
      "eval (epoch #18): 100%|██████████████████| 10/10 [00:00<00:00, 32.99it/s, recon loss=0.026 KL loss=62.198 total loss=0.088 avg. loss=0.087]\n"
     ]
    },
    {
     "name": "stdout",
     "output_type": "stream",
     "text": [
      "epoch 19 sample orig SMILES: O=C(NCc1ccc(-n2ccnc2)nc1)NCC1(c2ccccc2)CC1\n",
      "epoch 19 sample recon SMILES: O=C(NCc1ccc(-n2ccnc2)nc1)NC1C(c2ccccc2)CC1\n",
      "451/500 SMILES are valid\n"
     ]
    },
    {
     "name": "stderr",
     "output_type": "stream",
     "text": [
      "train (epoch #19): 100%|█████████████████| 69/69 [00:07<00:00,  9.50it/s, recon loss=0.021 KL loss=61.205 total loss=0.083 avg. loss=0.091]\n",
      "eval (epoch #19): 100%|██████████████████| 10/10 [00:00<00:00, 32.83it/s, recon loss=0.026 KL loss=61.992 total loss=0.088 avg. loss=0.086]\n"
     ]
    },
    {
     "name": "stdout",
     "output_type": "stream",
     "text": [
      "epoch 20 sample orig SMILES: Cn1c(CNc2ccc(-n3ccnc3)cc2)nc2ccccc21\n",
      "epoch 20 sample recon SMILES: Cn1c(CNc2ccc(-n3ccnc3)cc2)nc2ccccc21\n",
      "451/500 SMILES are valid\n"
     ]
    },
    {
     "name": "stderr",
     "output_type": "stream",
     "text": [
      "train (epoch #20): 100%|█████████████████| 69/69 [00:07<00:00,  9.52it/s, recon loss=0.021 KL loss=60.781 total loss=0.082 avg. loss=0.090]\n",
      "eval (epoch #20): 100%|██████████████████| 10/10 [00:00<00:00, 33.04it/s, recon loss=0.026 KL loss=61.523 total loss=0.088 avg. loss=0.086]\n"
     ]
    },
    {
     "name": "stdout",
     "output_type": "stream",
     "text": [
      "epoch 21 sample orig SMILES: O=C1NC(CCC(=O)N2CCCC2)C(O)=Nc2ccccc21\n",
      "epoch 21 sample recon SMILES: O=C1NC(CCC(=O)N2CCCC2)C(C)=Nc2ccccc21\n",
      "457/500 SMILES are valid\n"
     ]
    },
    {
     "name": "stderr",
     "output_type": "stream",
     "text": [
      "train (epoch #21): 100%|█████████████████| 69/69 [00:07<00:00,  9.47it/s, recon loss=0.018 KL loss=61.019 total loss=0.079 avg. loss=0.090]\n",
      "eval (epoch #21): 100%|██████████████████| 10/10 [00:00<00:00, 32.92it/s, recon loss=0.025 KL loss=61.730 total loss=0.087 avg. loss=0.086]\n"
     ]
    },
    {
     "name": "stdout",
     "output_type": "stream",
     "text": [
      "epoch 22 sample orig SMILES: CCOc1ccccc1-c1cc2ncc(N)cn2n1\n",
      "epoch 22 sample recon SMILES: CCOc1ccccc1-c1nc2ncc(N)cn2n1\n",
      "447/500 SMILES are valid\n"
     ]
    },
    {
     "name": "stderr",
     "output_type": "stream",
     "text": [
      "train (epoch #22): 100%|█████████████████| 69/69 [00:07<00:00,  9.49it/s, recon loss=0.020 KL loss=61.122 total loss=0.081 avg. loss=0.089]\n",
      "eval (epoch #22): 100%|██████████████████| 10/10 [00:00<00:00, 32.77it/s, recon loss=0.025 KL loss=61.709 total loss=0.086 avg. loss=0.086]\n"
     ]
    },
    {
     "name": "stdout",
     "output_type": "stream",
     "text": [
      "epoch 23 sample orig SMILES: COC(=O)c1sccc1NC(=O)n1ncc2cc(Cl)ccc21\n",
      "epoch 23 sample recon SMILES: COC(=O)c1sccc1NC(=O)c1ncc2cc(Cl)ccc21\n",
      "449/500 SMILES are valid\n"
     ]
    },
    {
     "name": "stderr",
     "output_type": "stream",
     "text": [
      "train (epoch #23): 100%|█████████████████| 69/69 [00:07<00:00,  9.58it/s, recon loss=0.024 KL loss=60.892 total loss=0.085 avg. loss=0.089]\n",
      "eval (epoch #23): 100%|██████████████████| 10/10 [00:00<00:00, 32.91it/s, recon loss=0.025 KL loss=61.531 total loss=0.086 avg. loss=0.085]\n"
     ]
    },
    {
     "name": "stdout",
     "output_type": "stream",
     "text": [
      "epoch 24 sample orig SMILES: O=C1CC(c2ccccc2)c2cnn(C3CCCC3)c2N1\n",
      "epoch 24 sample recon SMILES: O=C1CC(c2ccccc2)c2cnn(C3CCCC3)c2N1\n",
      "458/500 SMILES are valid\n"
     ]
    },
    {
     "name": "stderr",
     "output_type": "stream",
     "text": [
      "train (epoch #24): 100%|█████████████████| 69/69 [00:07<00:00,  9.51it/s, recon loss=0.020 KL loss=60.701 total loss=0.080 avg. loss=0.089]\n",
      "eval (epoch #24): 100%|██████████████████| 10/10 [00:00<00:00, 32.80it/s, recon loss=0.025 KL loss=61.307 total loss=0.087 avg. loss=0.085]\n"
     ]
    },
    {
     "name": "stdout",
     "output_type": "stream",
     "text": [
      "epoch 25 sample orig SMILES: Cc1ccc(C(=O)Nc2cc(N3CCCCC3)ncn2)c(C)c1\n",
      "epoch 25 sample recon SMILES: Cc1ccc(C(=O)Nc2cc(N3CCCCC3)ncn2)c(C)c1\n",
      "441/500 SMILES are valid\n"
     ]
    },
    {
     "name": "stderr",
     "output_type": "stream",
     "text": [
      "train (epoch #25): 100%|█████████████████| 69/69 [00:07<00:00,  9.83it/s, recon loss=0.024 KL loss=60.771 total loss=0.084 avg. loss=0.089]\n",
      "eval (epoch #25): 100%|██████████████████| 10/10 [00:00<00:00, 32.80it/s, recon loss=0.026 KL loss=61.332 total loss=0.087 avg. loss=0.085]\n"
     ]
    },
    {
     "name": "stdout",
     "output_type": "stream",
     "text": [
      "epoch 26 sample orig SMILES: CCCn1c(=O)n(Cc2cccc(C(N)=O)c2)c2ccccc21\n",
      "epoch 26 sample recon SMILES: CCCn1c(=O)n(Cc2cccc(C(N)=O)c2)c2ccccc21\n",
      "454/500 SMILES are valid\n"
     ]
    },
    {
     "name": "stderr",
     "output_type": "stream",
     "text": [
      "train (epoch #26): 100%|█████████████████| 69/69 [00:07<00:00,  9.51it/s, recon loss=0.018 KL loss=64.166 total loss=0.083 avg. loss=0.092]\n",
      "eval (epoch #26): 100%|██████████████████| 10/10 [00:00<00:00, 32.82it/s, recon loss=0.026 KL loss=64.708 total loss=0.091 avg. loss=0.090]\n"
     ]
    },
    {
     "name": "stdout",
     "output_type": "stream",
     "text": [
      "epoch 27 sample orig SMILES: O=C(Cn1cnnn1)Nc1ccc(F)c(F)c1F\n",
      "epoch 27 sample recon SMILES: O=C(Cn1cnnn1)Nc1ccc(F)c(F)c1F\n",
      "453/500 SMILES are valid\n"
     ]
    },
    {
     "name": "stderr",
     "output_type": "stream",
     "text": [
      "train (epoch #27): 100%|█████████████████| 69/69 [00:07<00:00,  9.51it/s, recon loss=0.020 KL loss=72.532 total loss=0.092 avg. loss=0.101]\n",
      "eval (epoch #27): 100%|██████████████████| 10/10 [00:00<00:00, 32.96it/s, recon loss=0.031 KL loss=72.858 total loss=0.104 avg. loss=0.103]\n"
     ]
    },
    {
     "name": "stdout",
     "output_type": "stream",
     "text": [
      "epoch 28 sample orig SMILES: Nc1ccc(-c2nc3cc(C(F)(F)F)ccc3[nH]2)cc1\n",
      "epoch 28 sample recon SMILES: Nc1ccc(-c2nc3cc(C(F)(F)F)ccc3[nH]2)cc1\n",
      "444/500 SMILES are valid\n"
     ]
    },
    {
     "name": "stderr",
     "output_type": "stream",
     "text": [
      "train (epoch #28): 100%|█████████████████| 69/69 [00:07<00:00,  9.77it/s, recon loss=0.018 KL loss=65.382 total loss=0.083 avg. loss=0.095]\n",
      "eval (epoch #28): 100%|██████████████████| 10/10 [00:00<00:00, 32.77it/s, recon loss=0.028 KL loss=65.772 total loss=0.094 avg. loss=0.091]\n"
     ]
    },
    {
     "name": "stdout",
     "output_type": "stream",
     "text": [
      "epoch 29 sample orig SMILES: O=c1oc2ccc(Cl)cc2c(=O)n1-c1ccc(F)cc1\n",
      "epoch 29 sample recon SMILES: O=c1oc2ccc(Cl)cc2c(=O)n1-c1ccc(F)cc1\n",
      "448/500 SMILES are valid\n"
     ]
    },
    {
     "name": "stderr",
     "output_type": "stream",
     "text": [
      "train (epoch #29): 100%|█████████████████| 69/69 [00:07<00:00,  9.40it/s, recon loss=0.022 KL loss=62.854 total loss=0.085 avg. loss=0.091]\n",
      "eval (epoch #29): 100%|██████████████████| 10/10 [00:00<00:00, 32.68it/s, recon loss=0.027 KL loss=63.285 total loss=0.091 avg. loss=0.088]\n"
     ]
    },
    {
     "name": "stdout",
     "output_type": "stream",
     "text": [
      "epoch 30 sample orig SMILES: Nc1nc(CSc2nnnn2C2CCCCC2)nc2ccccc12\n",
      "epoch 30 sample recon SMILES: Nc1nc(CSc2nnnn2C2CCCCC2)nc2ccccc12\n",
      "451/500 SMILES are valid\n"
     ]
    },
    {
     "name": "stderr",
     "output_type": "stream",
     "text": [
      "train (epoch #30): 100%|█████████████████| 69/69 [00:07<00:00,  9.44it/s, recon loss=0.018 KL loss=61.602 total loss=0.080 avg. loss=0.090]\n",
      "eval (epoch #30): 100%|██████████████████| 10/10 [00:00<00:00, 32.64it/s, recon loss=0.027 KL loss=62.053 total loss=0.089 avg. loss=0.087]\n"
     ]
    },
    {
     "name": "stdout",
     "output_type": "stream",
     "text": [
      "epoch 31 sample orig SMILES: COc1ccc(S(N)(=O)=O)cc1C(=O)NCC1CC1C\n",
      "epoch 31 sample recon SMILES: COc1ccc(S(N)(=O)=O)cc1C(=O)NCC1CC1C\n",
      "456/500 SMILES are valid\n"
     ]
    },
    {
     "name": "stderr",
     "output_type": "stream",
     "text": [
      "train (epoch #31): 100%|█████████████████| 69/69 [00:07<00:00,  9.50it/s, recon loss=0.019 KL loss=61.394 total loss=0.080 avg. loss=0.089]\n",
      "eval (epoch #31): 100%|██████████████████| 10/10 [00:00<00:00, 32.70it/s, recon loss=0.027 KL loss=61.851 total loss=0.089 avg. loss=0.086]\n"
     ]
    },
    {
     "name": "stdout",
     "output_type": "stream",
     "text": [
      "Epoch    32: reducing learning rate of group 0 to 2.5000e-05.\n",
      "epoch 32 sample orig SMILES: O=C(NCc1nc2ccccc2s1)NC1CCC(O)CC1\n",
      "epoch 32 sample recon SMILES: O=C(NCc1nc2ccccc2s1)NC1CCC(O)CC1\n",
      "457/500 SMILES are valid\n"
     ]
    },
    {
     "name": "stderr",
     "output_type": "stream",
     "text": [
      "train (epoch #32): 100%|█████████████████| 69/69 [00:07<00:00,  9.68it/s, recon loss=0.018 KL loss=61.348 total loss=0.080 avg. loss=0.089]\n",
      "eval (epoch #32): 100%|██████████████████| 10/10 [00:00<00:00, 32.77it/s, recon loss=0.027 KL loss=61.828 total loss=0.089 avg. loss=0.086]\n"
     ]
    },
    {
     "name": "stdout",
     "output_type": "stream",
     "text": [
      "epoch 33 sample orig SMILES: CCCC(=O)Nc1ccc(NCC(=O)NC(C)C)cc1\n",
      "epoch 33 sample recon SMILES: CCCC(=O)Nc1ccc(NCC(=O)NC(C)C)cc1\n",
      "458/500 SMILES are valid\n"
     ]
    },
    {
     "name": "stderr",
     "output_type": "stream",
     "text": [
      "train (epoch #33): 100%|█████████████████| 69/69 [00:07<00:00,  9.52it/s, recon loss=0.018 KL loss=60.866 total loss=0.079 avg. loss=0.088]\n",
      "eval (epoch #33): 100%|██████████████████| 10/10 [00:00<00:00, 32.79it/s, recon loss=0.027 KL loss=61.350 total loss=0.089 avg. loss=0.085]\n"
     ]
    },
    {
     "name": "stdout",
     "output_type": "stream",
     "text": [
      "epoch 34 sample orig SMILES: N#CCCN1CCN(C(=O)Cc2c[nH]c3ccccc23)CC1\n",
      "epoch 34 sample recon SMILES: N#CCCN1CCN(C(=O)Cc2c[nH]c3ccccc23)CC1\n",
      "466/500 SMILES are valid\n"
     ]
    },
    {
     "name": "stderr",
     "output_type": "stream",
     "text": [
      "train (epoch #34): 100%|█████████████████| 69/69 [00:07<00:00,  9.46it/s, recon loss=0.018 KL loss=60.926 total loss=0.079 avg. loss=0.088]\n",
      "eval (epoch #34): 100%|██████████████████| 10/10 [00:00<00:00, 32.72it/s, recon loss=0.027 KL loss=61.412 total loss=0.088 avg. loss=0.086]\n"
     ]
    },
    {
     "name": "stdout",
     "output_type": "stream",
     "text": [
      "epoch 35 sample orig SMILES: CC(C)COc1ccc(CNS(=O)(=O)c2cccnc2)cc1\n",
      "epoch 35 sample recon SMILES: CC(C)COc1ccc(CNS(=O)(=O)c2cccnc2)cc1\n",
      "453/500 SMILES are valid\n"
     ]
    },
    {
     "name": "stderr",
     "output_type": "stream",
     "text": [
      "train (epoch #35): 100%|█████████████████| 69/69 [00:07<00:00,  9.81it/s, recon loss=0.018 KL loss=60.898 total loss=0.078 avg. loss=0.088]\n",
      "eval (epoch #35): 100%|██████████████████| 10/10 [00:00<00:00, 33.18it/s, recon loss=0.027 KL loss=61.327 total loss=0.088 avg. loss=0.086]\n"
     ]
    },
    {
     "name": "stdout",
     "output_type": "stream",
     "text": [
      "epoch 36 sample orig SMILES: O=C(Cn1nc(-c2ccccc2)c2ccccc21)NCc1cccnc1\n",
      "epoch 36 sample recon SMILES: O=C(Cn1nc(-c2ccccc2)c2ccccc21)NCc1cccnc1\n",
      "452/500 SMILES are valid\n"
     ]
    },
    {
     "name": "stderr",
     "output_type": "stream",
     "text": [
      "train (epoch #36): 100%|█████████████████| 69/69 [00:07<00:00,  9.46it/s, recon loss=0.017 KL loss=60.719 total loss=0.078 avg. loss=0.088]\n",
      "eval (epoch #36): 100%|██████████████████| 10/10 [00:00<00:00, 32.93it/s, recon loss=0.027 KL loss=61.159 total loss=0.088 avg. loss=0.085]\n"
     ]
    },
    {
     "name": "stdout",
     "output_type": "stream",
     "text": [
      "epoch 37 sample orig SMILES: N#Cc1ccccc1OCC(=O)Nc1sccc1C(=O)NC1CC1\n",
      "epoch 37 sample recon SMILES: N#Cc1ccccc1OCC(=O)Nc1sccc1C(=O)NC1CC1\n",
      "455/500 SMILES are valid\n"
     ]
    },
    {
     "name": "stderr",
     "output_type": "stream",
     "text": [
      "train (epoch #37): 100%|█████████████████| 69/69 [00:07<00:00,  9.47it/s, recon loss=0.019 KL loss=60.559 total loss=0.079 avg. loss=0.088]\n",
      "eval (epoch #37): 100%|██████████████████| 10/10 [00:00<00:00, 32.80it/s, recon loss=0.027 KL loss=61.001 total loss=0.088 avg. loss=0.085]\n"
     ]
    },
    {
     "name": "stdout",
     "output_type": "stream",
     "text": [
      "epoch 38 sample orig SMILES: CC(=O)c1cc(C(=O)NCc2ccc(F)cc2)n(C)c1\n",
      "epoch 38 sample recon SMILES: CC(=O)c1cc(C(=O)NCc2ccc(F)cc2)n(C)c1\n",
      "442/500 SMILES are valid\n"
     ]
    },
    {
     "name": "stderr",
     "output_type": "stream",
     "text": [
      "train (epoch #38): 100%|█████████████████| 69/69 [00:07<00:00,  9.51it/s, recon loss=0.017 KL loss=60.408 total loss=0.078 avg. loss=0.087]\n",
      "eval (epoch #38): 100%|██████████████████| 10/10 [00:00<00:00, 32.78it/s, recon loss=0.027 KL loss=60.855 total loss=0.088 avg. loss=0.085]\n"
     ]
    },
    {
     "name": "stdout",
     "output_type": "stream",
     "text": [
      "epoch 39 sample orig SMILES: CC(Sc1n[nH]c(N)n1)C(=O)N1CCc2ccccc21\n",
      "epoch 39 sample recon SMILES: CC(Sc1n[nH]c(N)n1)C(=O)N1CCc2ccccc21\n",
      "455/500 SMILES are valid\n"
     ]
    },
    {
     "name": "stderr",
     "output_type": "stream",
     "text": [
      "train (epoch #39): 100%|█████████████████| 69/69 [00:07<00:00,  9.47it/s, recon loss=0.018 KL loss=60.410 total loss=0.078 avg. loss=0.087]\n",
      "eval (epoch #39): 100%|██████████████████| 10/10 [00:00<00:00, 32.51it/s, recon loss=0.026 KL loss=60.871 total loss=0.087 avg. loss=0.085]\n"
     ]
    },
    {
     "name": "stdout",
     "output_type": "stream",
     "text": [
      "epoch 40 sample orig SMILES: NC(=O)c1ccc(CN(C2CC2)S(=O)(=O)c2cccnc2)cc1\n",
      "epoch 40 sample recon SMILES: NC(=O)c1ccc(CN(C2CC2)S(=O)(=O)c2cccnc2)cc1\n",
      "445/500 SMILES are valid\n"
     ]
    },
    {
     "name": "stderr",
     "output_type": "stream",
     "text": [
      "train (epoch #40): 100%|█████████████████| 69/69 [00:07<00:00,  9.53it/s, recon loss=0.019 KL loss=60.446 total loss=0.080 avg. loss=0.087]\n",
      "eval (epoch #40): 100%|██████████████████| 10/10 [00:00<00:00, 32.60it/s, recon loss=0.027 KL loss=60.908 total loss=0.088 avg. loss=0.085]\n"
     ]
    },
    {
     "name": "stdout",
     "output_type": "stream",
     "text": [
      "epoch 41 sample orig SMILES: CCOC(=O)CN(C)S(=O)(=O)c1ccn(C)c1\n",
      "epoch 41 sample recon SMILES: CCOC(=O)CN(C)S(=O)(=O)c1ccn(C)c1\n",
      "459/500 SMILES are valid\n"
     ]
    },
    {
     "name": "stderr",
     "output_type": "stream",
     "text": [
      "train (epoch #41): 100%|█████████████████| 69/69 [00:07<00:00,  9.50it/s, recon loss=0.019 KL loss=60.649 total loss=0.079 avg. loss=0.087]\n",
      "eval (epoch #41): 100%|██████████████████| 10/10 [00:00<00:00, 32.78it/s, recon loss=0.027 KL loss=61.117 total loss=0.088 avg. loss=0.085]\n"
     ]
    },
    {
     "name": "stdout",
     "output_type": "stream",
     "text": [
      "epoch 42 sample orig SMILES: CCc1ccccc1OCC(=O)N1CCC(CC(N)=O)CC1\n",
      "epoch 42 sample recon SMILES: CCc1ccccc1OCC(=O)N1CCC(CC(N)=O)CC1\n",
      "453/500 SMILES are valid\n"
     ]
    },
    {
     "name": "stderr",
     "output_type": "stream",
     "text": [
      "train (epoch #42): 100%|█████████████████| 69/69 [00:07<00:00,  9.48it/s, recon loss=0.017 KL loss=60.347 total loss=0.078 avg. loss=0.087]\n",
      "eval (epoch #42): 100%|██████████████████| 10/10 [00:00<00:00, 32.54it/s, recon loss=0.026 KL loss=60.809 total loss=0.087 avg. loss=0.085]\n"
     ]
    },
    {
     "name": "stdout",
     "output_type": "stream",
     "text": [
      "epoch 43 sample orig SMILES: O=C(CCC1CCCC1)N1CCN(CC(O)c2ccco2)CC1\n",
      "epoch 43 sample recon SMILES: O=C(CCC1CCCC1)N1CCN(CC(O)c2ccco2)CC1\n",
      "451/500 SMILES are valid\n"
     ]
    },
    {
     "name": "stderr",
     "output_type": "stream",
     "text": [
      "train (epoch #43): 100%|█████████████████| 69/69 [00:07<00:00,  9.60it/s, recon loss=0.019 KL loss=60.363 total loss=0.079 avg. loss=0.087]\n",
      "eval (epoch #43): 100%|██████████████████| 10/10 [00:00<00:00, 32.90it/s, recon loss=0.027 KL loss=60.842 total loss=0.088 avg. loss=0.085]\n"
     ]
    },
    {
     "name": "stdout",
     "output_type": "stream",
     "text": [
      "epoch 44 sample orig SMILES: COc1cccc(C(=O)OCc2scnc2C)c1\n",
      "epoch 44 sample recon SMILES: COc1cccc(C(=O)OCc2scnc2C)c1\n",
      "453/500 SMILES are valid\n"
     ]
    },
    {
     "name": "stderr",
     "output_type": "stream",
     "text": [
      "train (epoch #44): 100%|█████████████████| 69/69 [00:07<00:00,  9.45it/s, recon loss=0.020 KL loss=60.321 total loss=0.080 avg. loss=0.087]\n",
      "eval (epoch #44): 100%|██████████████████| 10/10 [00:00<00:00, 32.91it/s, recon loss=0.026 KL loss=60.802 total loss=0.087 avg. loss=0.085]\n"
     ]
    },
    {
     "name": "stdout",
     "output_type": "stream",
     "text": [
      "epoch 45 sample orig SMILES: Nc1c(C(=O)c2c[nH]c3ccccc23)nnn1-c1ccccc1\n",
      "epoch 45 sample recon SMILES: Nc1c(C(=O)c2c[nH]c3ccccc23)nnn1-c1ccccc1\n",
      "462/500 SMILES are valid\n"
     ]
    },
    {
     "name": "stderr",
     "output_type": "stream",
     "text": [
      "train (epoch #45): 100%|█████████████████| 69/69 [00:07<00:00,  9.65it/s, recon loss=0.017 KL loss=60.162 total loss=0.077 avg. loss=0.087]\n",
      "eval (epoch #45): 100%|██████████████████| 10/10 [00:00<00:00, 32.62it/s, recon loss=0.026 KL loss=60.652 total loss=0.087 avg. loss=0.084]\n"
     ]
    },
    {
     "name": "stdout",
     "output_type": "stream",
     "text": [
      "epoch 46 sample orig SMILES: Fc1ccc(C2NCCc3c2cc(F)c(Cl)c3F)nc1\n",
      "epoch 46 sample recon SMILES: Fc1ccc(C2NCCc3c2cc(F)c(Cl)c3F)nc1\n",
      "459/500 SMILES are valid\n"
     ]
    },
    {
     "name": "stderr",
     "output_type": "stream",
     "text": [
      "train (epoch #46): 100%|█████████████████| 69/69 [00:07<00:00,  9.66it/s, recon loss=0.020 KL loss=59.968 total loss=0.080 avg. loss=0.087]\n",
      "eval (epoch #46): 100%|██████████████████| 10/10 [00:00<00:00, 32.90it/s, recon loss=0.026 KL loss=60.473 total loss=0.087 avg. loss=0.084]\n"
     ]
    },
    {
     "name": "stdout",
     "output_type": "stream",
     "text": [
      "epoch 47 sample orig SMILES: CCOC(=O)C(C)NC(=O)c1csc2ccccc12\n",
      "epoch 47 sample recon SMILES: CCOC(=O)C(C)NC(=O)c1csc2ccccc12\n",
      "466/500 SMILES are valid\n"
     ]
    },
    {
     "name": "stderr",
     "output_type": "stream",
     "text": [
      "train (epoch #47): 100%|█████████████████| 69/69 [00:07<00:00,  9.65it/s, recon loss=0.017 KL loss=60.007 total loss=0.077 avg. loss=0.086]\n",
      "eval (epoch #47): 100%|██████████████████| 10/10 [00:00<00:00, 32.88it/s, recon loss=0.027 KL loss=60.476 total loss=0.087 avg. loss=0.084]\n"
     ]
    },
    {
     "name": "stdout",
     "output_type": "stream",
     "text": [
      "epoch 48 sample orig SMILES: CC1CC1C(=O)Nc1nc(-c2cccc(O)c2)cs1\n",
      "epoch 48 sample recon SMILES: CC1CC1C(=O)Nc1nc(-c2cccc(O)c2)cs1\n",
      "456/500 SMILES are valid\n"
     ]
    },
    {
     "name": "stderr",
     "output_type": "stream",
     "text": [
      "train (epoch #48): 100%|█████████████████| 69/69 [00:07<00:00,  9.42it/s, recon loss=0.020 KL loss=60.108 total loss=0.080 avg. loss=0.086]\n",
      "eval (epoch #48): 100%|██████████████████| 10/10 [00:00<00:00, 32.80it/s, recon loss=0.026 KL loss=60.573 total loss=0.087 avg. loss=0.084]\n"
     ]
    },
    {
     "name": "stdout",
     "output_type": "stream",
     "text": [
      "epoch 49 sample orig SMILES: Cc1cccc(C(=O)Nc2cccc(N3CCCCC3=O)c2)c1\n",
      "epoch 49 sample recon SMILES: Cc1cccc(C(=O)Nc2cccc(N3CCCCC3=O)c2)c1\n",
      "439/500 SMILES are valid\n"
     ]
    },
    {
     "name": "stderr",
     "output_type": "stream",
     "text": [
      "train (epoch #49): 100%|█████████████████| 69/69 [00:07<00:00,  9.53it/s, recon loss=0.015 KL loss=60.655 total loss=0.076 avg. loss=0.086]\n",
      "eval (epoch #49): 100%|██████████████████| 10/10 [00:00<00:00, 32.66it/s, recon loss=0.027 KL loss=61.144 total loss=0.088 avg. loss=0.085]\n"
     ]
    }
   ],
   "source": [
    "# epochs = 50\n",
    "# beta = 0.001\n",
    "\n",
    "# for epoch in range(0, epochs):\n",
    "#     sample_recon(model, epoch, val_loader, enc)\n",
    "#     train_loss = loop(model, train_loader, epoch, beta=beta)\n",
    "#     val_loss = loop(model, val_loader, epoch, beta=beta, evaluation=True)\n",
    "#     scheduler.step(val_loss)\n",
    "    \n",
    "#     # optional: save model \n",
    "# #     if epoch % 15 == 0:\n",
    "# #         torch.save(model.state_dict(),\n",
    "# #                 './{}/vae-{:03d}-{:.2f}.pth'.format(mydrive, epoch, train_loss))\n",
    "        \n",
    "# #         torch.save(optimizer.state_dict(),\n",
    "# #             './{}/optim-{:03d}-{:.2f}.pth'.format(mydrive, epoch, train_loss))\n",
    "\n",
    "#     if epoch == 0:\n",
    "#         best_loss = train_loss.item()\n",
    "#     else:\n",
    "#         if train_loss.item() < best_loss:\n",
    "#             best_loss = train_loss.item()"
   ]
  },
  {
   "cell_type": "code",
   "execution_count": 55,
   "metadata": {},
   "outputs": [],
   "source": [
    "torch.save(model.state_dict(), f\"./saved_models_part2/vae-{epoch:03d}-{train_loss:.2f}.pth\")"
   ]
  },
  {
   "cell_type": "markdown",
   "metadata": {
    "deletable": false,
    "editable": false,
    "id": "irPJVr5GLDDa",
    "run_control": {
     "frozen": true
    }
   },
   "source": [
    "### 1.5 Sample new molecules "
   ]
  },
  {
   "cell_type": "code",
   "execution_count": 147,
   "metadata": {
    "deletable": false,
    "editable": false,
    "id": "dhHlUOxQLDDb"
   },
   "outputs": [],
   "source": [
    "################ Code #################\n",
    "\n",
    "# grab random molecules\n",
    "id1, id2 = random.sample(range(len(X_test)), 2)\n",
    "mol1, mol2 = X_test[id1][0], X_test[id2][0]\n",
    "\n",
    "# get z\n",
    "model = model.to(\"cpu\")\n",
    "_, mu, _ = model(torch.vstack([mol1, mol2]))\n",
    "\n",
    "mu_interp = []\n",
    "for weight in np.linspace(0.0, 1, 101):\n",
    "    mu_interp.append(torch.lerp(mu[0], mu[1], weight))\n",
    "mu_interp = torch.vstack(mu_interp)\n",
    "\n",
    "vae_mols = model.decode(mu_interp).detach().cpu().numpy().argmax(-1).squeeze()\n",
    "\n",
    "vae_smiles = [index2smiles(mol1, enc)]\n",
    "for vae_mol in vae_mols:\n",
    "    vae_smiles.append(index2smiles(vae_mol, enc))\n",
    "vae_smiles.append(index2smiles(mol2, enc))\n",
    "\n",
    "vae_smiles = [k for k, _ in groupby(vae_smiles)]\n",
    "\n",
    "################ Code #################"
   ]
  },
  {
   "cell_type": "markdown",
   "metadata": {
    "deletable": false,
    "editable": false,
    "id": "RQAB517EfdSR",
    "run_control": {
     "frozen": true
    }
   },
   "source": [
    "Visualize molecular line drawings for the molecules you generated."
   ]
  },
  {
   "cell_type": "code",
   "execution_count": 149,
   "metadata": {
    "deletable": false,
    "editable": false,
    "id": "w3TIsR5OfOct",
    "run_control": {
     "frozen": true
    },
    "scrolled": false
   },
   "outputs": [
    {
     "data": {
      "image/png": "[encoded data removed]",
      "text/plain": [
       "<PIL.PngImagePlugin.PngImageFile image mode=RGB size=300x300 at 0x7EFF8EA104F0>"
      ]
     },
     "metadata": {},
     "output_type": "display_data"
    },
    {
     "name": "stdout",
     "output_type": "stream",
     "text": [
      "[1] invalid smiles: COCC(=O)NC(C(=O)NC1CC(22cccc22)C1)C(C)C\n",
      "[2] invalid smiles: COCC(=O)NC(C(=O)NC1CCc2ccccc2)CC))(C)C\n",
      "[3] invalid smiles: COCC(=O)NC(C(=O)NC1CCc2ccccc2)C1)C(C)C\n",
      "[4] invalid smiles: COCC(=O)NC(C(=O)NC1Ccc2cccc22)C1)C(C)C\n",
      "[5] invalid smiles: COCC(=O)NC(C(=O)NC1Ccc2cccc2))C1)C(C)C\n",
      "[6] invalid smiles: COCC(=O)NC(C(=O)NC1Cc2ccccc2)CC))(C)C\n",
      "[7] invalid smiles: COCC(=O)NC(C(=O)NC1Cc2ccccc2)C1))(C)C\n",
      "[8] invalid smiles: COCC(=O)NC(C(=O)NC1Cc2ccccc2)C1)C(C)C\n",
      "[9] invalid smiles: COCC(=O)NC(C(=O)N1CCc2ccccc2)C1)C(C)C\n",
      "[10] invalid smiles: COCC(=O)NC(C(=O)C1C(c2cccc22)C1)C(C)C\n",
      "[11] invalid smiles: COCC(=O)NC(C(=)NC1C(c2cccc22)C1)C(C)C\n",
      "[12] invalid smiles: COCC(=O)NC(C(=)NC1Ccc2cccs2)CC1)C(CC\n",
      "[13] invalid smiles: COCC(=O)NC(C=O)NC1(c2ccccc2)C1)C(C)C\n",
      "[14] invalid smiles: COCC(=O)NC((=O)NC1(c2cccc22)C1)C(C)C\n",
      "[15] invalid smiles: COC((=O)NCC(=O)NC1(c2cccc22)C1)C(C)C\n",
      "[16] invalid smiles: COC((=O)NCC(=O)NC1(c2cccc2))C1)C(C)C\n",
      "[17] invalid smiles: COC((=O)NCC(=O)NC1(c2cccs2)CC1)C(C)C\n",
      "[18] invalid smiles: COC((=O)NCC(=O)NC1cc2cccs2)C11)C1CC\n",
      "[19] invalid smiles: COC((=O)NCC(=O)NC1ccccccs2)C1))(CCC\n",
      "[20] invalid smiles: COC((=O)NCC(=O)NC1cccccc(2)C1)C(C)C\n",
      "[21] invalid smiles: COC((=O)NCC(=O)NC1c1cccc(F)C1)C(C)C\n",
      "[22] invalid smiles: COC((=O)CCC(=O)NC1c1cccc2))C1)C(C)C\n",
      "[23] invalid smiles: COC((=O)CCC(=O)NC1c1ccc(2))C1)C1C)C\n",
      "[24] invalid smiles: CCC((=O)CCC(=O)NC(c1ccc(1))c1)C1CC1\n",
      "[25] invalid smiles: CCC((=O)CCC(=O)NC1c1ccc(1)cn1)C1CC1\n",
      "[26] invalid smiles: CCC((=O)CCC(=O)OC1c1ccc(1)cn1)C1CC1\n",
      "[27] invalid smiles: CCC((=O)CCC(=O)OC1ccccc(F)cn1)C1CC1\n",
      "[28] invalid smiles: CCC((=O)CCC(=O)OC1ccccc(F)c1))C1CC\n",
      "[29] invalid smiles: CCC((=O)CCC(=O)OCc1ccc(CF)c1)C1CCC\n",
      "[30] invalid smiles: CCC((=O)CNC(=O)OCc1ccc(C))c1)C1CC1\n",
      "[31] invalid smiles: CCC((CO)CNC(=O)CCc1ccc(C))c1)C1CC1\n",
      "[32] invalid smiles: CCC((CO)CCC(=O)CCc1ccc(C))n1)C1CC1\n",
      "[33] invalid smiles: CCC((CO)CC(=O))C1c1ccc(F)cn1)C1CC1\n",
      "[34] invalid smiles: CCC((CO)CC(=O)OC1c1ccc(F)cn1)C1CC1\n",
      "[35] invalid smiles: CCC((CO)CC(=O)OCc1ccc(C))c1)C1CCC\n",
      "[36] invalid smiles: CCC((CO)CC(=O)OCc1ccc(C))c1)C1CC1\n",
      "[37] invalid smiles: CCC((CO)CC(=O)OCc1ccc(C))n1)C1CC1\n",
      "[38] invalid smiles: CCC((CO)CC(=O)OCc1ccc(C)cn1)C1CC1\n",
      "[39] invalid smiles: CCC((CO)CC(=O)OCc1ccc(F)cn1)C1CC1\n",
      "[40] invalid smiles: CCC(CCO)CC(=O)OCc1cc(Cr)cn1)C1CC1\n",
      "[41] invalid smiles: CCC(CCO)CC(=O)OC1ccc(Cr)cn1)C1CC1\n",
      "[42] invalid smiles: CCC(CCO)CC(=O)Oc1ccc(C))c1)C11C1\n",
      "[43] invalid smiles: CCC(CCO)CC(=O)Oc1ccc(C))c1)C1CC1\n",
      "[44] invalid smiles: CCC(CCO)CC(=O)Oc1ccc(C)cn1)C1CC1\n",
      "[45] invalid smiles: CCC(CCO)CC(=O)Cc1ccc(r)cn1)C1CC1\n",
      "[46] invalid smiles: CCC(CCO)CC(=O)Cc1cc((r)cn1)C1CC1\n"
     ]
    },
    {
     "data": {
      "image/png": "[encoded data removed]",
      "text/plain": [
       "<PIL.PngImagePlugin.PngImageFile image mode=RGB size=300x300 at 0x7EFF9ACF0310>"
      ]
     },
     "metadata": {},
     "output_type": "display_data"
    },
    {
     "data": {
      "image/png": "[encoded data removed]",
      "text/plain": [
       "<PIL.PngImagePlugin.PngImageFile image mode=RGB size=300x300 at 0x7EFF8E9C6E20>"
      ]
     },
     "metadata": {},
     "output_type": "display_data"
    },
    {
     "name": "stdout",
     "output_type": "stream",
     "text": [
      "[49] invalid smiles: CCN(CCO)C(=O))c1ccc(r)cn1CC1CC1\n",
      "[50] invalid smiles: CCN(CCO)C(=O))c1cc(Br)cn1CC1CC1\n"
     ]
    },
    {
     "data": {
      "image/png": "[encoded data removed]",
      "text/plain": [
       "<PIL.PngImagePlugin.PngImageFile image mode=RGB size=300x300 at 0x7EFF8EA1EB50>"
      ]
     },
     "metadata": {},
     "output_type": "display_data"
    },
    {
     "name": "stdout",
     "output_type": "stream",
     "text": [
      "[52] invalid smiles: CCN(CCO)C(=O)Oc1cc(Br)cn1C11CC1\n",
      "[53] invalid smiles: CCN(CCO)C(=O)Oc1cc(Br)cn1C11C11\n"
     ]
    },
    {
     "data": {
      "image/png": "[encoded data removed]",
      "text/plain": [
       "<PIL.PngImagePlugin.PngImageFile image mode=RGB size=300x300 at 0x7EFF8E9C6490>"
      ]
     },
     "metadata": {},
     "output_type": "display_data"
    },
    {
     "name": "stdout",
     "output_type": "stream",
     "text": [
      "[55] invalid smiles: CCN(CCO)C(=O)cc1cc(Br)cn1C1CC1\n",
      "[56] invalid smiles: CCN(CCO)C(=O)c1ccc(Br)cn1C1CC1\n",
      "[57] invalid smiles: CCN(CCO)C(=O)c1cc(Br)cn1C11CC1\n",
      "[58] invalid smiles: CCN(CCO)C(=O)c1cc(Br)cn1C11C1\n"
     ]
    },
    {
     "data": {
      "image/png": "[encoded data removed]",
      "text/plain": [
       "<PIL.PngImagePlugin.PngImageFile image mode=RGB size=300x300 at 0x7EFF8EA1E970>"
      ]
     },
     "metadata": {},
     "output_type": "display_data"
    }
   ],
   "source": [
    "################ Code #################\n",
    "\n",
    "for idx, vae_smile in enumerate(vae_smiles):\n",
    "    if check_smiles_valid(vae_smile):\n",
    "        img = Draw.MolToImage(Chem.MolFromSmiles(vae_smile))\n",
    "        img.show()\n",
    "    else:\n",
    "        print(f\"[{idx}] invalid smiles: {vae_smile}\")\n",
    "\n",
    "################ Code #################"
   ]
  },
  {
   "cell_type": "code",
   "execution_count": null,
   "metadata": {},
   "outputs": [],
   "source": []
  }
 ],
 "metadata": {
  "colab": {
   "name": "ps4_vae_template.ipynb",
   "provenance": [],
   "toc_visible": true
  },
  "kernelspec": {
   "display_name": "Python 3 (ipykernel)",
   "language": "python",
   "name": "python3"
  },
  "language_info": {
   "codemirror_mode": {
    "name": "ipython",
    "version": 3
   },
   "file_extension": ".py",
   "mimetype": "text/x-python",
   "name": "python",
   "nbconvert_exporter": "python",
   "pygments_lexer": "ipython3",
   "version": "3.9.7"
  }
 },
 "nbformat": 4,
 "nbformat_minor": 1
}
