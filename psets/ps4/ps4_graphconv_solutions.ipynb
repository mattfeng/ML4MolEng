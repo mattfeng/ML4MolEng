{
 "cells": [
  {
   "cell_type": "markdown",
   "metadata": {},
   "source": [
    "#  <center> Problem Set 4 <center>\n",
    "<center> Spring 2021 <center>\n",
    "<center> 3.100/3.322, 10.402/10.602, 20.301/20.401 <center>\n",
    "<center> Due:10 pm ET on Thursday, Apr 22, 2021 <center>"
   ]
  },
  {
   "cell_type": "markdown",
   "metadata": {},
   "source": [
    "## Part 2 Graph Convolutional Nets "
   ]
  },
  {
   "cell_type": "markdown",
   "metadata": {},
   "source": [
    "### 1.1 Install and try out RDkit"
   ]
  },
  {
   "cell_type": "code",
   "execution_count": null,
   "metadata": {},
   "outputs": [],
   "source": [
    "# This is a hack to install rdkit without needing to install conda which might take minutes \n",
    "# if you have anaconda installed, you can install rdkit from anaconda \n",
    "url = 'https://anaconda.org/rdkit/rdkit/2018.09.1.0/download/linux-64/rdkit-2018.09.1.0-py36h71b666b_1.tar.bz2'\n",
    "!curl -L $url | tar xj lib\n",
    "!mv lib/python3.6/site-packages/rdkit /usr/local/lib/python3.7/dist-packages/\n",
    "\n",
    "x86 = '/usr/lib/x86_64-linux-gnu'\n",
    "!mv lib/*.so.* $x86/\n",
    "!ln -s $x86/libboost_python3-py36.so.1.65.1 $x86/libboost_python3.so.1.65.1"
   ]
  },
  {
   "cell_type": "code",
   "execution_count": 33,
   "metadata": {},
   "outputs": [],
   "source": [
    "import numpy as np\n",
    "from rdkit import Chem, DataStructs\n",
    "from rdkit.Chem import Descriptors,Crippen\n",
    "from rdkit.Chem import Draw\n",
    "from rdkit.Chem.Draw import IPythonConsole\n",
    "import pandas as pd\n",
    "import sys\n",
    "import torch \n",
    "from tqdm import tqdm\n",
    "import itertools\n",
    "\n",
    "from rdkit import RDLogger   \n",
    "RDLogger.DisableLog('rdApp.*')"
   ]
  },
  {
   "cell_type": "code",
   "execution_count": 51,
   "metadata": {},
   "outputs": [],
   "source": [
    "# mount your google drive to save model and files \n",
    "\n",
    "# from google.colab import drive\n",
    "# dir_path = '/content/drive'\n",
    "# drive.mount(dir_path)\n",
    "\n",
    "dir_path = './'"
   ]
  },
  {
   "cell_type": "code",
   "execution_count": 2,
   "metadata": {},
   "outputs": [],
   "source": [
    "### example \n",
    "# make a mol object \n",
    "dopamine_mol = Chem.MolFromSmiles(\"C1=CC(=C(C=C1CCN)O)O\") # Dopamine \n",
    "caffeine_mol = Chem.MolFromSmiles(\"CN1C=NC2=C1C(=O)N(C(=O)N2C)C\") # Caffeine "
   ]
  },
  {
   "cell_type": "code",
   "execution_count": 3,
   "metadata": {},
   "outputs": [
    {
     "data": {
      "image/png": "[encoded data removed]",
      "text/plain": [
       "<IPython.core.display.Image object>"
      ]
     },
     "execution_count": 3,
     "metadata": {},
     "output_type": "execute_result"
    }
   ],
   "source": [
    "# Arrange molecules in a grid image\n",
    "Draw.MolsToGridImage([dopamine_mol, caffeine_mol])"
   ]
  },
  {
   "cell_type": "markdown",
   "metadata": {},
   "source": [
    "### 1.2 Construct Molecular Graph Datasets"
   ]
  },
  {
   "cell_type": "code",
   "execution_count": 4,
   "metadata": {},
   "outputs": [],
   "source": [
    "# implement SMILES to graph function  \n",
    "def smiles2graph(smiles):\n",
    "    '''\n",
    "    Transfrom smiles into a list nodes (atomic number)\n",
    "    \n",
    "    Args: \n",
    "        smiles (str): SMILES strings\n",
    "    \n",
    "    return: \n",
    "        z(np.array), A (np.array): list of atomic numbers, adjancency matrix \n",
    "    '''\n",
    "    \n",
    "    mol = Chem.MolFromSmiles( smiles ) # no hydrogen \n",
    "    z = np.array( [atom.GetAtomicNum() for atom in mol.GetAtoms()] )\n",
    "    A = np.stack(Chem.GetAdjacencyMatrix(mol))\n",
    "    \n",
    "    return z, A"
   ]
  },
  {
   "cell_type": "code",
   "execution_count": 5,
   "metadata": {},
   "outputs": [
    {
     "name": "stdout",
     "output_type": "stream",
     "text": [
      "--2021-04-06 14:35:29--  https://raw.githubusercontent.com/wwang2/ML4MolEng/master/psets/ps4/data/qm9.csv\n",
      "Resolving raw.githubusercontent.com (raw.githubusercontent.com)... 185.199.110.133, 185.199.111.133, 185.199.109.133, ...\n",
      "Connecting to raw.githubusercontent.com (raw.githubusercontent.com)|185.199.110.133|:443... connected.\n",
      "HTTP request sent, awaiting response... 200 OK\n",
      "Length: 30584525 (29M) [text/plain]\n",
      "Saving to: ‘qm9.csv.1’\n",
      "\n",
      "qm9.csv.1           100%[===================>]  29.17M  69.9MB/s    in 0.4s    \n",
      "\n",
      "2021-04-06 14:35:30 (69.9 MB/s) - ‘qm9.csv.1’ saved [30584525/30584525]\n",
      "\n"
     ]
    }
   ],
   "source": [
    "! wget https://raw.githubusercontent.com/wwang2/ML4MolEng/master/psets/ps4/data/qm9.csv"
   ]
  },
  {
   "cell_type": "code",
   "execution_count": 6,
   "metadata": {},
   "outputs": [],
   "source": [
    "import torch\n",
    "from sklearn.utils import shuffle\n",
    "\n",
    "df = pd.read_csv(\"qm9.csv\")\n",
    "df = shuffle(df).reset_index()"
   ]
  },
  {
   "cell_type": "code",
   "execution_count": 7,
   "metadata": {},
   "outputs": [],
   "source": [
    "z_list = []\n",
    "a_list = []\n",
    "y_list = []\n",
    "N_list = []\n",
    "\n",
    "for i, row in df.iterrows():\n",
    "        smiles = row.smiles\n",
    "        z, A = smiles2graph(smiles)          \n",
    "        a = A.nonzero() \n",
    "\n",
    "        mol = Chem.MolFromSmiles( smiles ) \n",
    "        z_list.append(torch.LongTensor(z))\n",
    "        a_list.append(torch.LongTensor(a))\n",
    "        y_list.append(torch.Tensor([row.alpha]))\n",
    "        N_list.append(len(z))"
   ]
  },
  {
   "cell_type": "code",
   "execution_count": 25,
   "metadata": {},
   "outputs": [],
   "source": [
    "class GraphDataset(torch.utils.data.Dataset):\n",
    "    def __init__(self,\n",
    "                 z_list, \n",
    "                 a_list, \n",
    "                 N_list, \n",
    "                 y_list):\n",
    "        \n",
    "        '''\n",
    "        GraphDataset object\n",
    "        \n",
    "        Args: \n",
    "            z_list (list of torch.LongTensor)\n",
    "            a_list (list of torch.LongTensor)\n",
    "            N_list (list of int)\n",
    "            y_list (list of torch.FloatTensor)\n",
    "\n",
    "        '''\n",
    "        self.z_list = z_list # atomic number\n",
    "        self.a_list = a_list # edge list \n",
    "        self.N_list = N_list # Number of atoms \n",
    "        self.y_list = y_list # properties to predict \n",
    "\n",
    "    def __len__(self):\n",
    "        return len(self.N_list)\n",
    "\n",
    "    def __getitem__(self, idx):\n",
    "        \n",
    "        z = torch.LongTensor(self.z_list[idx])\n",
    "        a = torch.LongTensor(self.a_list[idx])\n",
    "        N = self.N_list[idx]\n",
    "        y = torch.Tensor(self.y_list[idx])\n",
    "        \n",
    "        return z, a, N, y"
   ]
  },
  {
   "cell_type": "code",
   "execution_count": 26,
   "metadata": {},
   "outputs": [],
   "source": [
    "from sklearn.model_selection import train_test_split\n",
    "\n",
    "z_train, z_test, a_train, a_test, N_train, N_test, y_train, y_test = train_test_split(z_list, \n",
    "                                                                                      a_list, \n",
    "                                                                                      N_list, \n",
    "                                                                                      y_list, test_size=0.2)\n",
    "\n",
    "z_train, z_val, a_train, a_val, N_train, N_val, y_train, y_val = train_test_split(z_train, \n",
    "                                                                                      a_train, \n",
    "                                                                                      N_train, \n",
    "                                                                                      y_train, test_size=0.2)"
   ]
  },
  {
   "cell_type": "code",
   "execution_count": 27,
   "metadata": {},
   "outputs": [],
   "source": [
    "traindataset = GraphDataset(z_train, a_train, N_train, y_train)\n",
    "valdataset = GraphDataset(z_val, a_val, N_val, y_val)\n",
    "testdataset =  GraphDataset(z_test, a_test, N_test, y_test)"
   ]
  },
  {
   "cell_type": "markdown",
   "metadata": {},
   "source": [
    "### 1.3 Batching Molecular Graphs "
   ]
  },
  {
   "cell_type": "code",
   "execution_count": 28,
   "metadata": {},
   "outputs": [],
   "source": [
    "def collate_graphs(batch):\n",
    "    '''Batch multiple graphs into one batched graph\n",
    "    \n",
    "    Args:\n",
    "    \n",
    "        batch (tuple): tuples of z, a, N and y obtained from GraphDataset.__getitem__() \n",
    "        \n",
    "    Return \n",
    "        (tuple): Batched z, a, N, y\n",
    "        \n",
    "    Example:\n",
    "    \n",
    "    >>> #graph 1 \n",
    "    >>> z1 = torch.LongTensor([6, 6, 7])\n",
    "    >>> a1 = torch.LongTensor([[0, 2, 2, 1], [2, 0, 1, 2]])\n",
    "    >>> N1 = 3\n",
    "    >>> y1 =  torch.Tensor([74.18]\n",
    "    >>> #graph 2 \n",
    "    >>> z2 = torch.LongTensor([6, 6, 8]\n",
    "    >>> a2 = torch.LongTensor([[0, 2, 2, 1], [2, 0, 1, 2]])\n",
    "    >>> N2 = 3\n",
    "    >>> y2 = torch.Tensor([64.32])\n",
    "    \n",
    "    >>> graph1 = (z1, a1, N1, y1)\n",
    "    >>> graph2 = (z2, a2, N2, y2)\n",
    "    \n",
    "    >>> collate_graphs( (graph1, graph2) )  \n",
    "    \n",
    "        (tensor([6, 6, 7, 6, 6, 8]),\n",
    "         tensor([[0, 2, 2, 1, 3, 5, 5, 4],\n",
    "                 [2, 0, 1, 2, 5, 3, 4, 5]]),\n",
    "         [3, 3],\n",
    "         tensor([74.1800, 64.3200]))\n",
    "    '''\n",
    "    \n",
    "    z_batch = []\n",
    "    a_batch = []\n",
    "    N_batch = []\n",
    "    y_batch = []\n",
    "\n",
    "    cumulative_atoms = np.cumsum([0] + [b[2] for b in batch])[:-1]\n",
    "    \n",
    "    for i in range(len(batch)):\n",
    "        z, a, N, y = batch[i]\n",
    "        index_shift = cumulative_atoms[i]\n",
    "        a = a + index_shift\n",
    "        z_batch.append(z) \n",
    "        a_batch.append(a)\n",
    "        N_batch.append(N)\n",
    "        y_batch.append(y)\n",
    "        \n",
    "    z_batch = torch.cat(z_batch)\n",
    "    a_batch = torch.cat(a_batch, dim=1)\n",
    "    N_batch = N_batch\n",
    "    y_batch = torch.cat(y_batch)\n",
    "    \n",
    "    return z_batch, a_batch, N_batch, y_batch "
   ]
  },
  {
   "cell_type": "code",
   "execution_count": 41,
   "metadata": {},
   "outputs": [],
   "source": [
    "from torch.utils.data import DataLoader\n",
    "train_loader = DataLoader(traindataset,\n",
    "                          batch_size=512, \n",
    "                          collate_fn=collate_graphs,shuffle=True)\n",
    "\n",
    "val_loader = DataLoader(valdataset,\n",
    "                          batch_size=512, \n",
    "                          collate_fn=collate_graphs,shuffle=True)\n",
    "\n",
    "test_loader = DataLoader(testdataset,\n",
    "                          batch_size=512, \n",
    "                          collate_fn=collate_graphs,shuffle=True)"
   ]
  },
  {
   "cell_type": "markdown",
   "metadata": {},
   "source": [
    "### 1.4 Implement a Graph Convolution Model"
   ]
  },
  {
   "cell_type": "code",
   "execution_count": 42,
   "metadata": {},
   "outputs": [],
   "source": [
    "from torch import nn\n",
    "from torch.nn import ModuleDict\n",
    "from itertools import repeat\n",
    "\n",
    "def scatter_add(src, index, dim=-1, dim_size=None, fill_value=0):\n",
    "    \n",
    "    index_size = list(repeat(1, src.dim()))\n",
    "    index_size[dim] = src.size(dim)\n",
    "    index = index.view(index_size).expand_as(src)\n",
    "    \n",
    "    dim = range(src.dim())[dim]\n",
    "    dim_size = index.max().item() + 1 if dim_size is None else dim_size\n",
    "    out_size = list(src.size())\n",
    "    out_size[dim] = dim_size\n",
    "\n",
    "    out = src.new_full(out_size, fill_value)\n",
    "\n",
    "    return out.scatter_add_(dim, index, src)\n",
    "\n",
    "class GNN(torch.nn.Module):\n",
    "    \n",
    "    def __init__(self, n_convs=3, n_embed=64):\n",
    "        super(GNN, self).__init__()\n",
    "        \n",
    "        self.atom_embed = nn.Embedding(100, n_embed)\n",
    "        self.convolutions = nn.ModuleList(\n",
    "            [ \n",
    "                ModuleDict({\n",
    "                    'update_mlp': nn.Sequential(nn.Linear(n_embed, n_embed), \n",
    "                                                nn.ReLU(), \n",
    "                                                nn.Linear(n_embed, n_embed)),\n",
    "                    'message_mlp': nn.Sequential(nn.Linear(n_embed, n_embed), \n",
    "                                                 nn.ReLU(), \n",
    "                                                 nn.Linear(n_embed, n_embed)) \n",
    "                })\n",
    "                for _ in range(n_convs)\n",
    "            ]\n",
    "            )\n",
    "        \n",
    "        self.readout = nn.Sequential(nn.Linear(n_embed, n_embed), nn.ReLU(), nn.Linear(n_embed, 1))\n",
    "        \n",
    "    def forward(self, z, a, N):\n",
    "        \n",
    "        h = self.atom_embed(z)\n",
    "        \n",
    "        for conv in self.convolutions:\n",
    "            msg = conv['message_mlp'](h[a[0]] * h[a[1]])\n",
    "            dh = conv['update_mlp'](scatter_add(msg, a[0], dim=0, dim_size=h.shape[0]))\n",
    "            h += dh \n",
    "        \n",
    "        # node wise output \n",
    "        node_out = self.readout( h )\n",
    "        \n",
    "        # split nodes back to graphs \n",
    "        node_splits = torch.split(node_out, N)\n",
    "        output = torch.stack([i.sum() for i in node_splits])\n",
    "            \n",
    "        return output"
   ]
  },
  {
   "cell_type": "markdown",
   "metadata": {},
   "source": [
    "### 1.5 Graph Convolution Operation preserves Permutation Invariances"
   ]
  },
  {
   "cell_type": "code",
   "execution_count": 43,
   "metadata": {},
   "outputs": [
    {
     "name": "stdout",
     "output_type": "stream",
     "text": [
      "-1.1362228393554688\n",
      "-1.1362228393554688\n",
      "-1.1362228393554688\n"
     ]
    }
   ],
   "source": [
    "def permute_graph(z, a, perm):\n",
    "    z = np.array(z)\n",
    "    perm = np.array(perm)\n",
    "    assert len(perm) == len(z)\n",
    "    \n",
    "    z_perm = z[perm]\n",
    "    a_perm = np.zeros(a.shape).astype(int)\n",
    "    \n",
    "    for i, edge in enumerate(a):\n",
    "        for j in range(len(edge)):\n",
    "            a_perm[i, j] = np.where(perm==edge[j])[0] #perm[edge[j]]\n",
    "    return z_perm, a_perm\n",
    "\n",
    "# permutate node ordering \n",
    "order = [0, 1 ,2]\n",
    "# node input\n",
    "z_orig = np.array([6, 1, 8])\n",
    "# edge input \n",
    "a_orig = np.array( [[0, 0, 1, 2], [1, 2, 0, 0]] )\n",
    "permutate = itertools.permutations(order)\n",
    "\n",
    "device = 0\n",
    "model = GNN(n_convs=4, n_embed=128).to(device)\n",
    "model.eval()\n",
    "\n",
    "for perm in [[0, 1, 2], [2, 0, 1], [1, 2, 0]]:\n",
    "    z_perm, a_perm = permute_graph(z_orig, a_orig, perm)\n",
    "    \n",
    "    z = torch.LongTensor(z_perm).to(device)\n",
    "    a = torch.LongTensor(a_perm).to(device)\n",
    "    N = [3]\n",
    "\n",
    "    print(model(z, a, N).item())"
   ]
  },
  {
   "cell_type": "markdown",
   "metadata": {},
   "source": [
    "### 1.6 Train/Test your Graph Neural Net"
   ]
  },
  {
   "cell_type": "code",
   "execution_count": 44,
   "metadata": {},
   "outputs": [],
   "source": [
    "from torch import optim\n",
    "\n",
    "optimizer = optim.Adam(model.parameters(), lr=1e-3)\n",
    "scheduler = optim.lr_scheduler.ReduceLROnPlateau(optimizer, 'min', factor=0.5, patience=50, verbose=True)"
   ]
  },
  {
   "cell_type": "code",
   "execution_count": 52,
   "metadata": {},
   "outputs": [],
   "source": [
    "# Implement Tqdm \n",
    "\n",
    "def loop(model, loader, epoch, evaluation=False):\n",
    "    \n",
    "    if evaluation:\n",
    "        model.eval()\n",
    "        mode = \"eval\"\n",
    "    else:\n",
    "        model.train()\n",
    "        mode = 'train'\n",
    "    batch_losses = []\n",
    "        \n",
    "    tqdm_data = tqdm(loader, desc='{} (epoch #{})'.format(mode, epoch))\n",
    "    \n",
    "    for data in tqdm_data:\n",
    "        \n",
    "        z, a, N, y = batch \n",
    "        z = z.to(device)\n",
    "        a = a.to(device)\n",
    "        y = y.to(device)\n",
    "        pred = model(z, a, N)\n",
    "        loss = (pred-y).pow(2).mean()  \n",
    "        \n",
    "        if not evaluation:\n",
    "            optimizer.zero_grad()\n",
    "            loss.backward()\n",
    "            optimizer.step()\n",
    "\n",
    "        batch_losses.append(loss.item())\n",
    "\n",
    "        postfix = ['batch loss={:.3f}'.format(loss.item()) , \n",
    "                   'avg. loss={:.3f}'.format(np.array(batch_losses).mean())]\n",
    "        \n",
    "        tqdm_data.set_postfix_str(' '.join(postfix))\n",
    "    \n",
    "    return np.array(batch_losses).mean()"
   ]
  },
  {
   "cell_type": "code",
   "execution_count": 53,
   "metadata": {},
   "outputs": [
    {
     "name": "stderr",
     "output_type": "stream",
     "text": [
      "train (epoch #0): 100%|██████████| 168/168 [00:12<00:00, 13.42it/s, batch loss=3.778 avg. loss=3.880]\n",
      "eval (epoch #0): 100%|██████████| 42/42 [00:00<00:00, 44.07it/s, batch loss=3.789 avg. loss=3.789]\n",
      "train (epoch #1):  70%|███████   | 118/168 [00:08<00:03, 13.61it/s, batch loss=3.447 avg. loss=3.600]\n"
     ]
    },
    {
     "ename": "KeyboardInterrupt",
     "evalue": "",
     "output_type": "error",
     "traceback": [
      "\u001b[0;31m---------------------------------------------------------------------------\u001b[0m",
      "\u001b[0;31mKeyboardInterrupt\u001b[0m                         Traceback (most recent call last)",
      "\u001b[0;32m<ipython-input-53-a21facbd7185>\u001b[0m in \u001b[0;36m<module>\u001b[0;34m\u001b[0m\n\u001b[1;32m      1\u001b[0m \u001b[0;32mfor\u001b[0m \u001b[0mepoch\u001b[0m \u001b[0;32min\u001b[0m \u001b[0mrange\u001b[0m\u001b[0;34m(\u001b[0m\u001b[0;36m1000\u001b[0m\u001b[0;34m)\u001b[0m\u001b[0;34m:\u001b[0m\u001b[0;34m\u001b[0m\u001b[0;34m\u001b[0m\u001b[0m\n\u001b[0;32m----> 2\u001b[0;31m     \u001b[0mtrain_loss\u001b[0m \u001b[0;34m=\u001b[0m \u001b[0mloop\u001b[0m\u001b[0;34m(\u001b[0m\u001b[0mmodel\u001b[0m\u001b[0;34m,\u001b[0m \u001b[0mtrain_loader\u001b[0m\u001b[0;34m,\u001b[0m \u001b[0mepoch\u001b[0m\u001b[0;34m)\u001b[0m\u001b[0;34m\u001b[0m\u001b[0;34m\u001b[0m\u001b[0m\n\u001b[0m\u001b[1;32m      3\u001b[0m     \u001b[0mval_loss\u001b[0m \u001b[0;34m=\u001b[0m \u001b[0mloop\u001b[0m\u001b[0;34m(\u001b[0m\u001b[0mmodel\u001b[0m\u001b[0;34m,\u001b[0m \u001b[0mval_loader\u001b[0m\u001b[0;34m,\u001b[0m \u001b[0mepoch\u001b[0m\u001b[0;34m,\u001b[0m \u001b[0mevaluation\u001b[0m\u001b[0;34m=\u001b[0m\u001b[0;32mTrue\u001b[0m\u001b[0;34m)\u001b[0m\u001b[0;34m\u001b[0m\u001b[0;34m\u001b[0m\u001b[0m\n\u001b[1;32m      4\u001b[0m \u001b[0;34m\u001b[0m\u001b[0m\n\u001b[1;32m      5\u001b[0m     \u001b[0mtorch\u001b[0m\u001b[0;34m.\u001b[0m\u001b[0msave\u001b[0m\u001b[0;34m(\u001b[0m\u001b[0mmodel\u001b[0m\u001b[0;34m.\u001b[0m\u001b[0mstate_dict\u001b[0m\u001b[0;34m(\u001b[0m\u001b[0;34m)\u001b[0m\u001b[0;34m,\u001b[0m \u001b[0;34m\"{}/model_{}.pt\"\u001b[0m\u001b[0;34m.\u001b[0m\u001b[0mformat\u001b[0m\u001b[0;34m(\u001b[0m\u001b[0mdir_path\u001b[0m\u001b[0;34m,\u001b[0m \u001b[0mepoch\u001b[0m\u001b[0;34m)\u001b[0m\u001b[0;34m)\u001b[0m\u001b[0;34m\u001b[0m\u001b[0;34m\u001b[0m\u001b[0m\n",
      "\u001b[0;32m<ipython-input-52-f46b8dfb1e12>\u001b[0m in \u001b[0;36mloop\u001b[0;34m(model, loader, epoch, evaluation)\u001b[0m\n\u001b[1;32m     18\u001b[0m         \u001b[0mz\u001b[0m \u001b[0;34m=\u001b[0m \u001b[0mz\u001b[0m\u001b[0;34m.\u001b[0m\u001b[0mto\u001b[0m\u001b[0;34m(\u001b[0m\u001b[0mdevice\u001b[0m\u001b[0;34m)\u001b[0m\u001b[0;34m\u001b[0m\u001b[0;34m\u001b[0m\u001b[0m\n\u001b[1;32m     19\u001b[0m         \u001b[0ma\u001b[0m \u001b[0;34m=\u001b[0m \u001b[0ma\u001b[0m\u001b[0;34m.\u001b[0m\u001b[0mto\u001b[0m\u001b[0;34m(\u001b[0m\u001b[0mdevice\u001b[0m\u001b[0;34m)\u001b[0m\u001b[0;34m\u001b[0m\u001b[0;34m\u001b[0m\u001b[0m\n\u001b[0;32m---> 20\u001b[0;31m         \u001b[0my\u001b[0m \u001b[0;34m=\u001b[0m \u001b[0my\u001b[0m\u001b[0;34m.\u001b[0m\u001b[0mto\u001b[0m\u001b[0;34m(\u001b[0m\u001b[0mdevice\u001b[0m\u001b[0;34m)\u001b[0m\u001b[0;34m\u001b[0m\u001b[0;34m\u001b[0m\u001b[0m\n\u001b[0m\u001b[1;32m     21\u001b[0m         \u001b[0mpred\u001b[0m \u001b[0;34m=\u001b[0m \u001b[0mmodel\u001b[0m\u001b[0;34m(\u001b[0m\u001b[0mz\u001b[0m\u001b[0;34m,\u001b[0m \u001b[0ma\u001b[0m\u001b[0;34m,\u001b[0m \u001b[0mN\u001b[0m\u001b[0;34m)\u001b[0m\u001b[0;34m\u001b[0m\u001b[0;34m\u001b[0m\u001b[0m\n\u001b[1;32m     22\u001b[0m         \u001b[0mloss\u001b[0m \u001b[0;34m=\u001b[0m \u001b[0;34m(\u001b[0m\u001b[0mpred\u001b[0m\u001b[0;34m-\u001b[0m\u001b[0my\u001b[0m\u001b[0;34m)\u001b[0m\u001b[0;34m.\u001b[0m\u001b[0mpow\u001b[0m\u001b[0;34m(\u001b[0m\u001b[0;36m2\u001b[0m\u001b[0;34m)\u001b[0m\u001b[0;34m.\u001b[0m\u001b[0mmean\u001b[0m\u001b[0;34m(\u001b[0m\u001b[0;34m)\u001b[0m\u001b[0;34m\u001b[0m\u001b[0;34m\u001b[0m\u001b[0m\n",
      "\u001b[0;31mKeyboardInterrupt\u001b[0m: "
     ]
    }
   ],
   "source": [
    "for epoch in range(1000):    \n",
    "    train_loss = loop(model, train_loader, epoch)\n",
    "    val_loss = loop(model, val_loader, epoch, evaluation=True)\n",
    "    \n",
    "    if epoch % 5 == 0:\n",
    "        torch.save(model.state_dict(), \"{}/gcn_model_{}.pt\".format(dir_path, epoch))\n",
    "    # save model "
   ]
  },
  {
   "cell_type": "code",
   "execution_count": 248,
   "metadata": {},
   "outputs": [],
   "source": [
    "test_loader = DataLoader(testdataset, batch_size=256, collate_fn=collate_graphs)\n",
    "\n",
    "test_pred_list = []\n",
    "test_label_list = []\n",
    "\n",
    "model.eval()\n",
    "for batch in test_loader: \n",
    "    \n",
    "    z, a, N, y = batch \n",
    "    z = z.to(device)\n",
    "    a = a.to(device)\n",
    "    y = y.to(device)\n",
    "\n",
    "    pred = model(z, a, N)\n",
    "    test_pred_list+=pred.detach().cpu().numpy().tolist()\n",
    "    test_label_list+=y.detach().cpu().numpy().tolist()\n",
    "\n",
    "train_pred_list = []\n",
    "train_label_list = []\n",
    "\n",
    "\n",
    "for batch in train_loader: \n",
    "    \n",
    "    z, a, N, y = batch \n",
    "    z = z.to(device)\n",
    "    a = a.to(device)\n",
    "    y = y.to(device)\n",
    "    \n",
    "    pred = model(z, a, N)\n",
    "\n",
    "    train_pred_list+=pred.detach().cpu().numpy().tolist()\n",
    "    train_label_list+=y.detach().cpu().numpy().tolist()"
   ]
  },
  {
   "cell_type": "code",
   "execution_count": 249,
   "metadata": {},
   "outputs": [
    {
     "data": {
      "text/plain": [
       "<matplotlib.legend.Legend at 0x7f5aabba5950>"
      ]
     },
     "execution_count": 249,
     "metadata": {},
     "output_type": "execute_result"
    },
    {
     "data": {
      "image/png": "[encoded data removed]",
      "text/plain": [
       "<Figure size 432x432 with 1 Axes>"
      ]
     },
     "metadata": {
      "needs_background": "light"
     },
     "output_type": "display_data"
    }
   ],
   "source": [
    "import matplotlib.pyplot as plt\n",
    "\n",
    "\n",
    "plt.figure(figsize=(6,6))\n",
    "plt.scatter(test_pred_list, test_label_list, s=3, alpha=0.5, label='test')\n",
    "plt.scatter(train_pred_list, train_label_list, s=3 , alpha=0.5, label='train')\n",
    "plt.ylabel(\"true\")\n",
    "plt.xlabel(\"pred\")\n",
    "plt.legend()"
   ]
  },
  {
   "cell_type": "code",
   "execution_count": null,
   "metadata": {},
   "outputs": [],
   "source": []
  }
 ],
 "metadata": {
  "kernelspec": {
   "display_name": "Python [conda env:ps3]",
   "language": "python",
   "name": "conda-env-ps3-py"
  },
  "language_info": {
   "codemirror_mode": {
    "name": "ipython",
    "version": 3
   },
   "file_extension": ".py",
   "mimetype": "text/x-python",
   "name": "python",
   "nbconvert_exporter": "python",
   "pygments_lexer": "ipython3",
   "version": "3.7.9"
  }
 },
 "nbformat": 4,
 "nbformat_minor": 2
}
