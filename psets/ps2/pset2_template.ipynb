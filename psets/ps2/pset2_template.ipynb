{
 "cells": [
  {
   "cell_type": "markdown",
   "metadata": {},
   "source": [
    "#  <center> Problem Set 2 <center>\n",
    "<center> Spring 2021 <center>\n",
    "<center> 3.100/3.322, 10.402/10.602, 20.301/20.401 <center>\n",
    "<center> Due:10 pm ET on Thursday, March 18, 2021 <center>"
   ]
  },
  {
   "cell_type": "markdown",
   "metadata": {},
   "source": [
    "Name: Your name\n",
    "\n",
    "kerberos id: Your kerberos id "
   ]
  },
  {
   "cell_type": "code",
   "execution_count": null,
   "metadata": {},
   "outputs": [],
   "source": [
    "import matplotlib.pyplot as plt\n",
    "from sklearn import preprocessing\n",
    "from sklearn.linear_model import LinearRegression, LogisticRegression, Ridge, Lasso\n",
    "from sklearn.model_selection import train_test_split\n",
    "from sklearn.neural_network import MLPRegressor, MLPClassifier\n",
    "from sklearn.metrics import plot_confusion_matrix\n",
    "import pandas as pd, numpy as np\n",
    "import matplotlib\n",
    "\n",
    "import matplotlib\n",
    "\n",
    "matplotlib.rcParams.update({'font.size': 15})\n",
    "matplotlib.rc('lines', linewidth=3, color='g')\n",
    "matplotlib.rcParams['axes.linewidth'] = 2.0\n",
    "matplotlib.rcParams['axes.linewidth'] = 2.0\n",
    "matplotlib.rcParams[\"xtick.major.size\"] = 6\n",
    "matplotlib.rcParams[\"ytick.major.size\"] = 6\n",
    "matplotlib.rcParams[\"ytick.major.width\"] = 2\n",
    "matplotlib.rcParams[\"xtick.major.width\"] = 2\n",
    "matplotlib.rcParams['text.usetex'] = False"
   ]
  },
  {
   "cell_type": "markdown",
   "metadata": {},
   "source": [
    "### Download required data "
   ]
  },
  {
   "cell_type": "code",
   "execution_count": null,
   "metadata": {},
   "outputs": [],
   "source": [
    "! wget https://raw.githubusercontent.com/wwang2/ML4MolEng/master/psets/ps2/data/mendeleev.csv\n",
    "! wget https://raw.githubusercontent.com/wwang2/ML4MolEng/master/psets/ps2/data/perov_train.csv\n",
    "! wget https://raw.githubusercontent.com/wwang2/ML4MolEng/master/psets/ps2/data/perov_val.csv\n",
    "! wget https://raw.githubusercontent.com/wwang2/ML4MolEng/master/psets/ps2/data/perov_alloy_nodupe.pkl\n",
    "! wget https://raw.githubusercontent.com/wwang2/ML4MolEng/master/psets/ps2/data/elements.npy"
   ]
  },
  {
   "cell_type": "markdown",
   "metadata": {},
   "source": [
    "## Problem 1 Modeling Unalloyed Perovskites"
   ]
  },
  {
   "cell_type": "markdown",
   "metadata": {},
   "source": [
    "### 1.1 Encoding chemical elements into feature vectors"
   ]
  },
  {
   "cell_type": "code",
   "execution_count": null,
   "metadata": {},
   "outputs": [],
   "source": [
    "########### Code #############\n",
    "\n",
    "from sklearn.utils import shuffle\n",
    "\n",
    "perov = pd.read_csv(\"perov_train.csv\") # read data \n",
    "all_elements = np.load('./elements.npy', allow_pickle=True) # Read all elements \n",
    "\n",
    "# Your code to featurize chemical elements \n",
    "\n",
    "\n",
    "########### Code #############"
   ]
  },
  {
   "cell_type": "markdown",
   "metadata": {},
   "source": [
    "### 1.2 Modeling with Ridge Regression"
   ]
  },
  {
   "cell_type": "code",
   "execution_count": null,
   "metadata": {},
   "outputs": [],
   "source": [
    "########### Code #############\n",
    "\n",
    "\n",
    "# Sample plotting code \n",
    "\n",
    "plt.figure(figsize=(5,5))\n",
    "\n",
    "\n",
    "# code snippet to generate scatter plot \n",
    "\n",
    "n_samples = 100\n",
    "train_prediction =  np.linspace(0, 50, n_samples) + np.random.randn(n_samples)\n",
    "train_truth =  np.linspace(0, 50, n_samples) + np.random.randn(n_samples)\n",
    "\n",
    "test_prediction = np.linspace(0, 50, n_samples) + 2 * np.random.randn(n_samples)\n",
    "test_truth = np.linspace(0, 50, n_samples) + 2 * np.random.randn(n_samples)\n",
    "\n",
    "plt.scatter(train_prediction, train_truth, label='train', alpha=0.6)\n",
    "plt.scatter(test_prediction, test_truth, label='test', alpha=0.6)\n",
    "\n",
    "plt.title(\"Put your plot title here\")\n",
    "plt.ylabel(\"true $E_{hull}$ (eV/atom)\")\n",
    "plt.xlabel(\"predicted $E_{hull}$ (eV/atom)\")\n",
    "plt.legend()\n",
    "plt.show()\n",
    "\n",
    "print(\"Ridge Regression training R^2 score: {}\".format(1.0))\n",
    "print(\"Ridge Regression testing R^2 score: {}\".format(1.0))\n",
    "\n",
    "########### Code #############"
   ]
  },
  {
   "cell_type": "markdown",
   "metadata": {},
   "source": [
    "### 1.3 Modeling with a Multi-Layer Perceptron"
   ]
  },
  {
   "cell_type": "code",
   "execution_count": null,
   "metadata": {},
   "outputs": [],
   "source": [
    "########### Code #############\n",
    "\n",
    "\n",
    "print(\"MLP Regression training R^2 score: {}\".format(1.0))\n",
    "print(\"MLP Regression testing R^2 score: {}\".format(1.0))\n",
    "\n",
    "########### Code #############"
   ]
  },
  {
   "cell_type": "markdown",
   "metadata": {},
   "source": [
    "Calculate the total of number of parameters in your MLP model. What does the input hidden_layers_sizes = (250, 250, 250) mean? "
   ]
  },
  {
   "cell_type": "code",
   "execution_count": null,
   "metadata": {},
   "outputs": [],
   "source": [
    "########## Answer ############\n",
    "\n",
    "\n",
    "\n",
    "########## Answer ############"
   ]
  },
  {
   "cell_type": "markdown",
   "metadata": {},
   "source": [
    "### 1.4 Chemical transferability of One-hot representations"
   ]
  },
  {
   "cell_type": "code",
   "execution_count": null,
   "metadata": {},
   "outputs": [],
   "source": [
    "########### Code #############\n",
    "\n",
    "# Load the validation dataset which contains element composistion not seen in training data\n",
    "perov_val = pd.read_csv(\"perov_val.csv\") \n",
    "\n",
    "\n",
    "print(\"MLP validation R^2 score\", 1.0)\n",
    "print(\"Ridge validation R^2 score\", 1.0)\n",
    "\n",
    "########### Code #############"
   ]
  },
  {
   "cell_type": "markdown",
   "metadata": {},
   "source": [
    "Comment on your validation results and briefly explain."
   ]
  },
  {
   "cell_type": "code",
   "execution_count": null,
   "metadata": {},
   "outputs": [],
   "source": [
    "########## Answer ############\n",
    "\n",
    "\n",
    "\n",
    "########## Answer ############"
   ]
  },
  {
   "cell_type": "markdown",
   "metadata": {},
   "source": [
    "### 1.5  Featurize Perovskites with physical descriptors"
   ]
  },
  {
   "cell_type": "code",
   "execution_count": null,
   "metadata": {},
   "outputs": [],
   "source": [
    "########### Code #############\n",
    "\n",
    "elements_pd = pd.read_csv(\"mendeleev.csv\")\n",
    "elements_pd = elements_pd.set_index('symbol')\n",
    "\n",
    "\n",
    "print(\"Training R^2 score: {}\".format(1.0) )\n",
    "print(\"Training R^2 score: {}\".format(1.0) )\n",
    "\n",
    "\n",
    "########### Code #############"
   ]
  },
  {
   "cell_type": "markdown",
   "metadata": {},
   "source": [
    "### 1.6 Chemical transferability of Physical Descriptors "
   ]
  },
  {
   "cell_type": "code",
   "execution_count": null,
   "metadata": {},
   "outputs": [],
   "source": [
    "########### Code #############\n",
    "\n",
    "# For the validation set, encode perov features with atomic descriptor \n",
    "\n",
    "print(\"validation R^2 score: {}\".format( 1.0 ))\n",
    "\n",
    "########### Code #############"
   ]
  },
  {
   "cell_type": "markdown",
   "metadata": {},
   "source": [
    "Briefy comment on your validation performance and explain why"
   ]
  },
  {
   "cell_type": "code",
   "execution_count": null,
   "metadata": {},
   "outputs": [],
   "source": [
    "########## Answer ############\n",
    "\n",
    "\n",
    "\n",
    "########## Answer ############"
   ]
  },
  {
   "cell_type": "markdown",
   "metadata": {},
   "source": [
    "## Problem 2 Modeling Alloyed(Hybrid) Perovskites"
   ]
  },
  {
   "cell_type": "markdown",
   "metadata": {},
   "source": [
    "### 2.1 Encoding Compositional Information"
   ]
  },
  {
   "cell_type": "code",
   "execution_count": null,
   "metadata": {},
   "outputs": [],
   "source": [
    "########### Code #############\n",
    "\n",
    "cry = pd.read_pickle(\"./perov_alloy_nodupe.pkl\")\n",
    "\n",
    "print(\"training R^2 score : {}\".format(1.0))\n",
    "print(\"testing R^2 score : {}\".format(1.0))\n",
    "\n",
    "########### Code #############"
   ]
  },
  {
   "cell_type": "markdown",
   "metadata": {},
   "source": [
    "### 2.1 Optimize Neural Network Architectures with HyperOpt"
   ]
  },
  {
   "cell_type": "code",
   "execution_count": 32,
   "metadata": {},
   "outputs": [
    {
     "name": "stdout",
     "output_type": "stream",
     "text": [
      "Start trials\n",
      "100%|██████████| 40/40 [00:00<00:00, 261.79trial/s, best loss: 1.0]\n",
      "best parameter set: {'activation': 'relu', 'alpha': 0.16, 'depth': 2, 'optimizer': 'adam', 'width': 256}\n",
      "best cv -1.0\n"
     ]
    }
   ],
   "source": [
    "########### Code #############\n",
    "\n",
    "from hyperopt import hp\n",
    "from hyperopt import fmin, tpe, space_eval, Trials\n",
    "from sklearn.model_selection import cross_val_score\n",
    "\n",
    "\n",
    "def hyperoptoutput2param(best):\n",
    "    \n",
    "    '''Change hyperopt output to dictionary with values '''\n",
    "    \n",
    "    for key in best.keys():\n",
    "        if key in hyper_dict.keys():\n",
    "            best[key] = hyper_dict[key][ best[key] ] \n",
    "            \n",
    "    return best\n",
    "\n",
    "# Define a dicionary for each parameter range \n",
    "\n",
    "hyper_dict = {\n",
    "    \"depth\": [1, 2, 3],\n",
    "    \"width\": [64, 128, 192, 256],\n",
    "    \"optimizer\": ['sgd', 'adam'],\n",
    "    \"activation\": ['relu', 'tanh'],\n",
    "    \"alpha\":[0.08, 0.16, 0.32, 0.64]\n",
    "}\n",
    "\n",
    "parameter_space =  { \"depth\": hp.choice(\"depth\", hyper_dict['depth']),\n",
    "                    \"width\": hp.choice(\"width\", hyper_dict['width']),\n",
    "                    \"optimizer\": hp.choice(\"optimizer\", hyper_dict['optimizer']), \n",
    "                    \"activation\": hp.choice(\"activation\", hyper_dict['activation']), \n",
    "                    \"alpha\": hp.choice(\"alpha\", hyper_dict['alpha'])\n",
    "                    }\n",
    "\n",
    "\n",
    "# Evaludation function \n",
    "\n",
    "def model_eval(args):\n",
    "\n",
    "    '''Take suggested arguments and perform model evaluation'''\n",
    "    \n",
    "    # generate tuple input for hidden_layer_sizes \n",
    "    hidden_layers = tuple( [args['width']] * args['depth'] )\n",
    "\n",
    "    # your code here to train MLPRegressors and trun CV score on the training data \n",
    "    \n",
    "    \n",
    "    cv_score = 1.0\n",
    "    return cv_score\n",
    "\n",
    "\n",
    "print(\"Start trials\") \n",
    "\n",
    "trials = Trials()\n",
    "best = fmin(model_eval, parameter_space, algo=tpe.suggest, max_evals=40, trials=trials) # this will take a while to run \n",
    "best = hyperoptoutput2param(best)\n",
    "\n",
    "print(\"best parameter set: {}\".format(best))\n",
    "print(\"best cv {}\".format(-trials.best_trial['result']['loss']))\n",
    "\n",
    "########### Code #############"
   ]
  },
  {
   "cell_type": "markdown",
   "metadata": {},
   "source": [
    "Train a MLP with parameter obtained"
   ]
  },
  {
   "cell_type": "code",
   "execution_count": null,
   "metadata": {},
   "outputs": [],
   "source": [
    "########### Code #############\n",
    "\n",
    "\n",
    "\n",
    "########### Code #############"
   ]
  },
  {
   "cell_type": "markdown",
   "metadata": {},
   "source": [
    "Have your predictions improved? "
   ]
  },
  {
   "cell_type": "code",
   "execution_count": null,
   "metadata": {},
   "outputs": [],
   "source": [
    "########## Answer ############\n",
    "\n",
    "\n",
    "\n",
    "########## Answer ############"
   ]
  },
  {
   "cell_type": "markdown",
   "metadata": {},
   "source": [
    "### 2.3 Applying MLPs to classifying electronic properties of al-loyed perovskites"
   ]
  },
  {
   "cell_type": "code",
   "execution_count": null,
   "metadata": {},
   "outputs": [],
   "source": [
    "########### Code #############\n",
    "\n",
    "\n",
    "\n",
    "########### Code #############"
   ]
  }
 ],
 "metadata": {
  "kernelspec": {
   "display_name": "Python [conda env:htvs3.8]",
   "language": "python",
   "name": "conda-env-htvs3.8-py"
  },
  "language_info": {
   "codemirror_mode": {
    "name": "ipython",
    "version": 3
   },
   "file_extension": ".py",
   "mimetype": "text/x-python",
   "name": "python",
   "nbconvert_exporter": "python",
   "pygments_lexer": "ipython3",
   "version": "3.8.5"
  }
 },
 "nbformat": 4,
 "nbformat_minor": 2
}
