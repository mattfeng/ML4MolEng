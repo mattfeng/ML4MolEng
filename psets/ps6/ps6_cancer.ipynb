{
 "cells": [
  {
   "cell_type": "markdown",
   "metadata": {
    "deletable": false,
    "editable": false,
    "run_control": {
     "frozen": true
    }
   },
   "source": [
    "#  <center> Problem Set 6 <center>\n",
    "<center> Spring 2021 <center>\n",
    "<center> 3.100/3.322, 10.402/10.602, 20.301/20.401 <center>\n",
    "<center> Due:10 pm ET on Thursday, May 19, 2021 <center>"
   ]
  },
  {
   "cell_type": "code",
   "execution_count": null,
   "metadata": {},
   "outputs": [],
   "source": [
    "Register for the competition and download the data: \n",
    "\n",
    "https://www.kaggle.com/c/ml4moleng-predicting-solvation-free-energies"
   ]
  },
  {
   "cell_type": "code",
   "execution_count": 23,
   "metadata": {},
   "outputs": [
    {
     "name": "stdout",
     "output_type": "stream",
     "text": [
      "--2021-05-06 14:55:00--  https://raw.githubusercontent.com/wwang2/ML4MolEng/master/psets/ps6/data/bio/ImmuneSignatures160.csv\n",
      "Resolving raw.githubusercontent.com (raw.githubusercontent.com)... 185.199.108.133, 185.199.109.133, 185.199.110.133, ...\n",
      "Connecting to raw.githubusercontent.com (raw.githubusercontent.com)|185.199.108.133|:443... connected.\n",
      "HTTP request sent, awaiting response... 200 OK\n",
      "Length: 19203382 (18M) [text/plain]\n",
      "Saving to: ‘ImmuneSignatures160.csv.1’\n",
      "\n",
      "ImmuneSignatures160 100%[===================>]  18.31M  51.4MB/s    in 0.4s    \n",
      "\n",
      "2021-05-06 14:55:00 (51.4 MB/s) - ‘ImmuneSignatures160.csv.1’ saved [19203382/19203382]\n",
      "\n",
      "--2021-05-06 14:55:01--  https://raw.githubusercontent.com/wwang2/ML4MolEng/master/psets/ps6/data/bio/covariates_train.csv\n",
      "Resolving raw.githubusercontent.com (raw.githubusercontent.com)... 185.199.111.133, 185.199.110.133, 185.199.109.133, ...\n",
      "Connecting to raw.githubusercontent.com (raw.githubusercontent.com)|185.199.111.133|:443... connected.\n",
      "HTTP request sent, awaiting response... 200 OK\n",
      "Length: 7384690 (7.0M) [text/plain]\n",
      "Saving to: ‘covariates_train.csv’\n",
      "\n",
      "covariates_train.cs 100%[===================>]   7.04M  38.3MB/s    in 0.2s    \n",
      "\n",
      "2021-05-06 14:55:01 (38.3 MB/s) - ‘covariates_train.csv’ saved [7384690/7384690]\n",
      "\n",
      "--2021-05-06 14:55:01--  https://raw.githubusercontent.com/wwang2/ML4MolEng/master/psets/ps6/data/bio/covariates_test.csv\n",
      "Resolving raw.githubusercontent.com (raw.githubusercontent.com)... 185.199.111.133, 185.199.110.133, 185.199.109.133, ...\n",
      "Connecting to raw.githubusercontent.com (raw.githubusercontent.com)|185.199.111.133|:443... connected.\n",
      "HTTP request sent, awaiting response... 200 OK\n",
      "Length: 1849717 (1.8M) [text/plain]\n",
      "Saving to: ‘covariates_test.csv’\n",
      "\n",
      "covariates_test.csv 100%[===================>]   1.76M  --.-KB/s    in 0.08s   \n",
      "\n",
      "2021-05-06 14:55:02 (21.4 MB/s) - ‘covariates_test.csv’ saved [1849717/1849717]\n",
      "\n",
      "--2021-05-06 14:55:02--  https://raw.githubusercontent.com/wwang2/ML4MolEng/master/psets/ps6/data/bio/survival_train.csv\n",
      "Resolving raw.githubusercontent.com (raw.githubusercontent.com)... 185.199.111.133, 185.199.110.133, 185.199.109.133, ...\n",
      "Connecting to raw.githubusercontent.com (raw.githubusercontent.com)|185.199.111.133|:443... connected.\n",
      "HTTP request sent, awaiting response... 200 OK\n",
      "Length: 56204 (55K) [text/plain]\n",
      "Saving to: ‘survival_train.csv’\n",
      "\n",
      "survival_train.csv  100%[===================>]  54.89K  --.-KB/s    in 0.006s  \n",
      "\n",
      "2021-05-06 14:55:02 (9.55 MB/s) - ‘survival_train.csv’ saved [56204/56204]\n",
      "\n"
     ]
    }
   ],
   "source": [
    "!wget https://raw.githubusercontent.com/wwang2/ML4MolEng/master/psets/ps6/data/bio/ImmuneSignatures160.csv\n",
    "!wget https://raw.githubusercontent.com/wwang2/ML4MolEng/master/psets/ps6/data/bio/covariates_train.csv\n",
    "!wget https://raw.githubusercontent.com/wwang2/ML4MolEng/master/psets/ps6/data/bio/covariates_test.csv\n",
    "!wget https://raw.githubusercontent.com/wwang2/ML4MolEng/master/psets/ps6/data/bio/survival_train.csv"
   ]
  },
  {
   "cell_type": "markdown",
   "metadata": {},
   "source": [
    "Register for the competition and download the data: \n",
    "\n",
    "https://www.kaggle.com/c/ml4moleng-predicting-cancer/"
   ]
  },
  {
   "cell_type": "markdown",
   "metadata": {},
   "source": [
    "## Part 1 Characterizing Intra-Tumoral Immune States"
   ]
  },
  {
   "cell_type": "markdown",
   "metadata": {},
   "source": [
    "### Part 1.1  Visualization of Immune Modules"
   ]
  },
  {
   "cell_type": "code",
   "execution_count": 3,
   "metadata": {},
   "outputs": [],
   "source": [
    "import numpy as np \n",
    "import pandas as pd \n",
    "\n",
    "import seaborn as sns\n",
    "import matplotlib.pyplot as plt\n",
    "\n",
    "from sklearn.cluster import KMeans\n",
    "from sklearn.metrics import silhouette_score"
   ]
  },
  {
   "cell_type": "code",
   "execution_count": null,
   "metadata": {},
   "outputs": [],
   "source": [
    "# import file - immune signatures\n",
    "genesig = pd.read_csv(\"data/ImmuneSignatures160.csv\", index_col=\"Unnamed: 0\")\n",
    "\n",
    "# diverging colormap for visualizing standardized scores\n",
    "cmap = sns.diverging_palette(220, 20, as_cmap=True)"
   ]
  },
  {
   "cell_type": "code",
   "execution_count": null,
   "metadata": {},
   "outputs": [],
   "source": [
    "# Immune Signature Cluster Modeling\n",
    "corr = genesig.corr(method = 'pearson')\n",
    "cmap = sns.diverging_palette(220, 20, as_cmap=True)\n",
    "sns.clustermap(corr, cmap=cmap)"
   ]
  },
  {
   "cell_type": "markdown",
   "metadata": {},
   "source": [
    "How many clusters can you observe? tere is no right answer, you can just provide a visual guess."
   ]
  },
  {
   "cell_type": "code",
   "execution_count": null,
   "metadata": {},
   "outputs": [],
   "source": [
    "\n",
    "\n",
    "\n",
    "\n"
   ]
  },
  {
   "cell_type": "markdown",
   "metadata": {},
   "source": [
    "### Part 1.2  Visualization of Immune Modules"
   ]
  },
  {
   "cell_type": "code",
   "execution_count": null,
   "metadata": {},
   "outputs": [],
   "source": [
    "# Immune Signature Cluster Modeling\n",
    "corr = genesig.corr(method = 'pearson')\n",
    "kmeans = KMeans(n_clusters = 5, init = 'k-means++', random_state=42)\n",
    "kmeans.fit(corr)\n",
    "\n",
    "# Get silhoutte score\n",
    "silhouette_score(corr, km.labels_, metric='euclidean')"
   ]
  },
  {
   "cell_type": "code",
   "execution_count": null,
   "metadata": {},
   "outputs": [],
   "source": [
    "# Generate Elbow plot \n",
    "\n",
    "silhouette_scores = []\n",
    "for i in range(2,10):\n",
    "    kmeans = KMeans(n_clusters = i, init = 'k-means++', random_state=42)\n",
    "    kmeans.fit(corr)\n",
    "    silhouette_scores.append(silhouette_score(corr, km.labels_, metric='euclidean'))"
   ]
  },
  {
   "cell_type": "markdown",
   "metadata": {},
   "source": [
    "Show your plot for the mean silhouette score, and find K that corresponds to the maxium silhouette score value"
   ]
  },
  {
   "cell_type": "code",
   "execution_count": null,
   "metadata": {},
   "outputs": [],
   "source": [
    "\n",
    "\n",
    "\n"
   ]
  },
  {
   "cell_type": "markdown",
   "metadata": {
    "deletable": false,
    "editable": false,
    "run_control": {
     "frozen": true
    }
   },
   "source": [
    "# Part 2. Baseline Machine Learning method"
   ]
  },
  {
   "cell_type": "markdown",
   "metadata": {
    "deletable": false,
    "editable": false,
    "run_control": {
     "frozen": true
    }
   },
   "source": [
    "### 2.1 Train a Logistic Regressor"
   ]
  },
  {
   "cell_type": "code",
   "execution_count": null,
   "metadata": {},
   "outputs": [],
   "source": []
  },
  {
   "cell_type": "code",
   "execution_count": null,
   "metadata": {},
   "outputs": [],
   "source": []
  },
  {
   "cell_type": "markdown",
   "metadata": {
    "deletable": false,
    "editable": false,
    "run_control": {
     "frozen": true
    }
   },
   "source": [
    "### 2.2 Train a Random Forest classifier"
   ]
  },
  {
   "cell_type": "code",
   "execution_count": null,
   "metadata": {},
   "outputs": [],
   "source": []
  },
  {
   "cell_type": "code",
   "execution_count": null,
   "metadata": {},
   "outputs": [],
   "source": []
  },
  {
   "cell_type": "markdown",
   "metadata": {},
   "source": [
    "# Part 3 Machine Learning Competition"
   ]
  },
  {
   "cell_type": "code",
   "execution_count": 27,
   "metadata": {},
   "outputs": [],
   "source": [
    "# your solution to the problem, you can start a open a new notebook to put all your solutions\n",
    "\n",
    "# train features\n",
    "Xtrain = pd.read_csv(\"covariates_train.csv\", index_col='Unnamed: 0')\n",
    "# train labels\n",
    "ytrain = pd.read_csv(\"survival_train.csv\", index_col='bcr_patient_barcode')\n",
    "# test features \n",
    "Xtest = pd.read_csv(\"covariates_test.csv\", index_col='Unnamed: 0')"
   ]
  },
  {
   "cell_type": "code",
   "execution_count": 21,
   "metadata": {},
   "outputs": [],
   "source": [
    "def save_submission(barcode, predict_proba, filename):\n",
    "    '''\n",
    "    utility function to dump submission csv files\n",
    "    \n",
    "    barcode (list): list of patient barcode\n",
    "    predict_proba (numpy.array): 1d numpy array that contrains probabilities for 0 and 1\n",
    "    filename (str): where you want to save your submission\n",
    "    '''\n",
    "    assert len(barcode) == len(predict_proba)\n",
    "    assert len(np.shape(predict_proba)) == 2\n",
    "    \n",
    "    submission = pd.DataFrame( {'bcr_patient_barcode': barcode, 'Predicted': predict_proba[:, 1]})\n",
    "    submission.to_csv(filename, index=None)"
   ]
  },
  {
   "cell_type": "code",
   "execution_count": 22,
   "metadata": {},
   "outputs": [],
   "source": [
    "# You should submit probabilies for each sample instead of just 0 and 1s.\n",
    "\n",
    "# example usage: \n",
    "save_submission(Xtest.index.tolist(), np.ones((len(Xtest), 2)), './junk.csv')\n"
   ]
  },
  {
   "cell_type": "code",
   "execution_count": null,
   "metadata": {},
   "outputs": [],
   "source": []
  },
  {
   "cell_type": "code",
   "execution_count": null,
   "metadata": {},
   "outputs": [],
   "source": []
  }
 ],
 "metadata": {
  "kernelspec": {
   "display_name": "Python 3 (ipykernel)",
   "language": "python",
   "name": "python3"
  },
  "language_info": {
   "codemirror_mode": {
    "name": "ipython",
    "version": 3
   },
   "file_extension": ".py",
   "mimetype": "text/x-python",
   "name": "python",
   "nbconvert_exporter": "python",
   "pygments_lexer": "ipython3",
   "version": "3.9.7"
  }
 },
 "nbformat": 4,
 "nbformat_minor": 2
}
