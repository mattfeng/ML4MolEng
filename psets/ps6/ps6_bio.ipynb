{
 "cells": [
  {
   "cell_type": "markdown",
   "metadata": {},
   "source": [
    "#  <center> Problem Set 6 <center>\n",
    "<center> Spring 2021 <center>\n",
    "<center> 3.100/3.322, 10.402/10.602, 20.301/20.401 <center>\n",
    "<center> Due:10 pm ET on Thursday, May 19, 2021 <center>"
   ]
  },
  {
   "cell_type": "code",
   "execution_count": null,
   "metadata": {},
   "outputs": [],
   "source": [
    "Register for the competition and download the data: \n",
    "\n",
    "https://www.kaggle.com/c/ml4moleng-predicting-solvation-free-energies"
   ]
  },
  {
   "cell_type": "code",
   "execution_count": 1,
   "metadata": {},
   "outputs": [
    {
     "name": "stdout",
     "output_type": "stream",
     "text": [
      "--2021-05-05 23:53:27--  https://raw.githubusercontent.com/wwang2/ML4MolEng/master/psets/ps6/data/bio/ImmuneSignatures160.csv\n",
      "Resolving raw.githubusercontent.com (raw.githubusercontent.com)... 185.199.110.133, 185.199.109.133, 185.199.108.133, ...\n",
      "Connecting to raw.githubusercontent.com (raw.githubusercontent.com)|185.199.110.133|:443... connected.\n",
      "HTTP request sent, awaiting response... 200 OK\n",
      "Length: 19203382 (18M) [text/plain]\n",
      "Saving to: ‘ImmuneSignatures160.csv’\n",
      "\n",
      "ImmuneSignatures160 100%[===================>]  18.31M  63.2MB/s    in 0.3s    \n",
      "\n",
      "2021-05-05 23:53:28 (63.2 MB/s) - ‘ImmuneSignatures160.csv’ saved [19203382/19203382]\n",
      "\n",
      "--2021-05-05 23:53:28--  https://raw.githubusercontent.com/wwang2/ML4MolEng/master/psets/ps6/data/bio/Xtrain.csv\n",
      "Resolving raw.githubusercontent.com (raw.githubusercontent.com)... 185.199.110.133, 185.199.109.133, 185.199.108.133, ...\n",
      "Connecting to raw.githubusercontent.com (raw.githubusercontent.com)|185.199.110.133|:443... connected.\n",
      "HTTP request sent, awaiting response... 200 OK\n",
      "Length: 1416971 (1.4M) [text/plain]\n",
      "Saving to: ‘Xtrain.csv’\n",
      "\n",
      "Xtrain.csv          100%[===================>]   1.35M  --.-KB/s    in 0.06s   \n",
      "\n",
      "2021-05-05 23:53:28 (22.6 MB/s) - ‘Xtrain.csv’ saved [1416971/1416971]\n",
      "\n",
      "--2021-05-05 23:53:28--  https://raw.githubusercontent.com/wwang2/ML4MolEng/master/psets/ps6/data/bio/ytrain.csv\n",
      "Resolving raw.githubusercontent.com (raw.githubusercontent.com)... 185.199.110.133, 185.199.109.133, 185.199.108.133, ...\n",
      "Connecting to raw.githubusercontent.com (raw.githubusercontent.com)|185.199.110.133|:443... connected.\n",
      "HTTP request sent, awaiting response... 200 OK\n",
      "Length: 36671 (36K) [text/plain]\n",
      "Saving to: ‘ytrain.csv’\n",
      "\n",
      "ytrain.csv          100%[===================>]  35.81K  --.-KB/s    in 0.002s  \n",
      "\n",
      "2021-05-05 23:53:28 (18.6 MB/s) - ‘ytrain.csv’ saved [36671/36671]\n",
      "\n",
      "--2021-05-05 23:53:28--  https://raw.githubusercontent.com/wwang2/ML4MolEng/master/psets/ps6/data/bio/Xtest.csv\n",
      "Resolving raw.githubusercontent.com (raw.githubusercontent.com)... 185.199.110.133, 185.199.109.133, 185.199.108.133, ...\n",
      "Connecting to raw.githubusercontent.com (raw.githubusercontent.com)|185.199.110.133|:443... connected.\n",
      "HTTP request sent, awaiting response... 200 OK\n",
      "Length: 698484 (682K) [text/plain]\n",
      "Saving to: ‘Xtest.csv’\n",
      "\n",
      "Xtest.csv           100%[===================>] 682.11K  --.-KB/s    in 0.06s   \n",
      "\n",
      "2021-05-05 23:53:29 (12.1 MB/s) - ‘Xtest.csv’ saved [698484/698484]\n",
      "\n"
     ]
    }
   ],
   "source": [
    "!wget https://raw.githubusercontent.com/wwang2/ML4MolEng/master/psets/ps6/data/bio/ImmuneSignatures160.csv\n",
    "!wget https://raw.githubusercontent.com/wwang2/ML4MolEng/master/psets/ps6/data/bio/Xtrain.csv\n",
    "!wget https://raw.githubusercontent.com/wwang2/ML4MolEng/master/psets/ps6/data/bio/ytrain.csv\n",
    "!wget https://raw.githubusercontent.com/wwang2/ML4MolEng/master/psets/ps6/data/bio/Xtest.csv"
   ]
  },
  {
   "cell_type": "markdown",
   "metadata": {},
   "source": [
    "Register for the competition and download the data: \n",
    "\n",
    "https://www.kaggle.com/c/ml4moleng-predicting-cancer/"
   ]
  },
  {
   "cell_type": "markdown",
   "metadata": {},
   "source": [
    "## Part 1 Characterizing Intra-Tumoral Immune States"
   ]
  },
  {
   "cell_type": "markdown",
   "metadata": {},
   "source": [
    "### Part 1.1  Visualization of Immune Modules"
   ]
  },
  {
   "cell_type": "code",
   "execution_count": 3,
   "metadata": {},
   "outputs": [],
   "source": [
    "import numpy as np \n",
    "import pandas as pd \n",
    "\n",
    "import seaborn as sns\n",
    "import matplotlib.pyplot as plt\n",
    "\n",
    "from sklearn.cluster import KMeans\n",
    "from sklearn.metrics import silhouette_score"
   ]
  },
  {
   "cell_type": "code",
   "execution_count": null,
   "metadata": {},
   "outputs": [],
   "source": [
    "# import file - immune signatures\n",
    "genesig = pd.read_csv(\"data/ImmuneSignatures160.csv\", index_col=\"Unnamed: 0\")\n",
    "\n",
    "# diverging colormap for visualizing standardized scores\n",
    "cmap = sns.diverging_palette(220, 20, as_cmap=True)"
   ]
  },
  {
   "cell_type": "code",
   "execution_count": null,
   "metadata": {},
   "outputs": [],
   "source": [
    "# Immune Signature Cluster Modeling\n",
    "corr = genesig.corr(method = 'pearson')\n",
    "cmap = sns.diverging_palette(220, 20, as_cmap=True)\n",
    "sns.clustermap(corr, cmap=cmap)"
   ]
  },
  {
   "cell_type": "markdown",
   "metadata": {},
   "source": [
    "How many clusters can you observe? tere is no right answer, you can just provide a visual guess."
   ]
  },
  {
   "cell_type": "code",
   "execution_count": null,
   "metadata": {},
   "outputs": [],
   "source": [
    "\n",
    "\n",
    "\n",
    "\n"
   ]
  },
  {
   "cell_type": "markdown",
   "metadata": {},
   "source": [
    "### Part 1.2  Visualization of Immune Modules"
   ]
  },
  {
   "cell_type": "code",
   "execution_count": null,
   "metadata": {},
   "outputs": [],
   "source": [
    "# Immune Signature Cluster Modeling\n",
    "corr = genesig.corr(method = 'pearson')\n",
    "kmeans = KMeans(n_clusters = 5, init = 'k-means++', random_state=42)\n",
    "kmeans.fit(corr)\n",
    "\n",
    "# Get silhoutte score\n",
    "silhouette_score(corr, km.labels_, metric='euclidean')"
   ]
  },
  {
   "cell_type": "code",
   "execution_count": null,
   "metadata": {},
   "outputs": [],
   "source": [
    "# Generate Elbow plot \n",
    "\n",
    "silhouette_scores = []\n",
    "for i in range(2,10):\n",
    "    kmeans = KMeans(n_clusters = i, init = 'k-means++', random_state=42)\n",
    "    kmeans.fit(corr)\n",
    "    silhouette_scores.append(silhouette_score(corr, km.labels_, metric='euclidean'))"
   ]
  },
  {
   "cell_type": "markdown",
   "metadata": {},
   "source": [
    "Show your plot for the mean silhouette score, and find K that corresponds to the maxium silhouette score value"
   ]
  },
  {
   "cell_type": "code",
   "execution_count": null,
   "metadata": {},
   "outputs": [],
   "source": [
    "\n",
    "\n",
    "\n"
   ]
  },
  {
   "cell_type": "markdown",
   "metadata": {},
   "source": [
    "# Part 2 Baseline Machine Learning method"
   ]
  },
  {
   "cell_type": "markdown",
   "metadata": {},
   "source": [
    "### 2.1 Train a Logistic Regressor"
   ]
  },
  {
   "cell_type": "code",
   "execution_count": null,
   "metadata": {},
   "outputs": [],
   "source": []
  },
  {
   "cell_type": "code",
   "execution_count": null,
   "metadata": {},
   "outputs": [],
   "source": []
  },
  {
   "cell_type": "markdown",
   "metadata": {},
   "source": [
    "### 2.2 Train a Random Forest classifier"
   ]
  },
  {
   "cell_type": "code",
   "execution_count": null,
   "metadata": {},
   "outputs": [],
   "source": []
  },
  {
   "cell_type": "code",
   "execution_count": null,
   "metadata": {},
   "outputs": [],
   "source": []
  },
  {
   "cell_type": "markdown",
   "metadata": {},
   "source": [
    "# Part 3 Machine Learning Competition"
   ]
  },
  {
   "cell_type": "code",
   "execution_count": 6,
   "metadata": {},
   "outputs": [],
   "source": [
    "# your solution to the problem, you start a open a new notebook to put all your solutions\n",
    "\n",
    "# train features\n",
    "Xtrain = pd.read_csv(\"Xtrain.csv\", index_col='bcr_patient_barcode')\n",
    "# train labels\n",
    "ytrain = pd.read_csv(\"Xtrain.csv\", index_col='bcr_patient_barcode')\n",
    "# test features \n",
    "Xtest = pd.read_csv(\"Xtest.csv\", index_col='bcr_patient_barcode')"
   ]
  },
  {
   "cell_type": "code",
   "execution_count": null,
   "metadata": {},
   "outputs": [],
   "source": []
  }
 ],
 "metadata": {
  "kernelspec": {
   "display_name": "Python [conda env:ps3]",
   "language": "python",
   "name": "conda-env-ps3-py"
  },
  "language_info": {
   "codemirror_mode": {
    "name": "ipython",
    "version": 3
   },
   "file_extension": ".py",
   "mimetype": "text/x-python",
   "name": "python",
   "nbconvert_exporter": "python",
   "pygments_lexer": "ipython3",
   "version": "3.7.9"
  }
 },
 "nbformat": 4,
 "nbformat_minor": 2
}
