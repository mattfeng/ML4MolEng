{
 "cells": [
  {
   "cell_type": "markdown",
   "metadata": {},
   "source": [
    "#  <center> Problem Set 6 <center>\n",
    "<center> Spring 2021 <center>\n",
    "<center> 3.100/3.322, 10.402/10.602, 20.301/20.401 <center>\n",
    "<center> Due:10 pm ET on Thursday, May 19, 2021 <center>"
   ]
  },
  {
   "cell_type": "code",
   "execution_count": null,
   "metadata": {},
   "outputs": [],
   "source": [
    "# This is a hack to install rdkit without needing to install conda which might take minutes \n",
    "# if you have anaconda installed, you can install rdkit from anaconda \n",
    "url = 'https://anaconda.org/rdkit/rdkit/2018.09.1.0/download/linux-64/rdkit-2018.09.1.0-py36h71b666b_1.tar.bz2'\n",
    "!curl -L $url | tar xj lib\n",
    "!mv lib/python3.6/site-packages/rdkit /usr/local/lib/python3.7/dist-packages/\n",
    "\n",
    "x86 = '/usr/lib/x86_64-linux-gnu'\n",
    "!mv lib/*.so.* $x86/\n",
    "!ln -s $x86/libboost_python3-py36.so.1.65.1 $x86/libboost_python3.so.1.65.1"
   ]
  },
  {
   "cell_type": "markdown",
   "metadata": {},
   "source": [
    "Register for the competition and download the data: \n",
    "\n",
    "https://www.kaggle.com/c/ml4moleng-predicting-solvation-free-energies"
   ]
  },
  {
   "cell_type": "code",
   "execution_count": 9,
   "metadata": {},
   "outputs": [
    {
     "name": "stdout",
     "output_type": "stream",
     "text": [
      "--2021-05-05 23:35:40--  https://raw.githubusercontent.com/wwang2/ML4MolEng/master/psets/ps6/data/chem_mat/molecule_props.csv\n",
      "Resolving raw.githubusercontent.com (raw.githubusercontent.com)... 185.199.111.133, 185.199.108.133, 185.199.109.133, ...\n",
      "Connecting to raw.githubusercontent.com (raw.githubusercontent.com)|185.199.111.133|:443... connected.\n",
      "HTTP request sent, awaiting response... 200 OK\n",
      "Length: 26739 (26K) [text/plain]\n",
      "Saving to: ‘molecule_props.csv’\n",
      "\n",
      "molecule_props.csv  100%[===================>]  26.11K  --.-KB/s    in 0s      \n",
      "\n",
      "2021-05-05 23:35:40 (52.6 MB/s) - ‘molecule_props.csv’ saved [26739/26739]\n",
      "\n",
      "--2021-05-05 23:35:40--  https://raw.githubusercontent.com/wwang2/ML4MolEng/master/psets/ps6/data/chem_mat/solvation_train.csv\n",
      "Resolving raw.githubusercontent.com (raw.githubusercontent.com)... 185.199.110.133, 185.199.109.133, 185.199.108.133, ...\n",
      "Connecting to raw.githubusercontent.com (raw.githubusercontent.com)|185.199.110.133|:443... connected.\n",
      "HTTP request sent, awaiting response... 200 OK\n",
      "Length: 124274 (121K) [text/plain]\n",
      "Saving to: ‘solvation_train.csv’\n",
      "\n",
      "solvation_train.csv 100%[===================>] 121.36K  --.-KB/s    in 0.03s   \n",
      "\n",
      "2021-05-05 23:35:41 (4.46 MB/s) - ‘solvation_train.csv’ saved [124274/124274]\n",
      "\n"
     ]
    }
   ],
   "source": [
    "!wget https://raw.githubusercontent.com/wwang2/ML4MolEng/master/psets/ps6/data/chem_mat/molecule_props.csv\n",
    "!wget https://raw.githubusercontent.com/wwang2/ML4MolEng/master/psets/ps6/data/chem_mat/solvation_train.csv\n",
    "!wget https://raw.githubusercontent.com/wwang2/ML4MolEng/master/psets/ps6/data/chem_mat/solvation_test.csv"
   ]
  },
  {
   "cell_type": "markdown",
   "metadata": {},
   "source": [
    "## Part 1 Baseline Machine learning methods "
   ]
  },
  {
   "cell_type": "code",
   "execution_count": 11,
   "metadata": {},
   "outputs": [],
   "source": [
    "import pandas as pd \n",
    "\n",
    "# load data \n",
    "data = pd.read_csv('./solvation_train.csv')\n",
    "mol_prop = pd.read_csv('./molecule_props.csv')"
   ]
  },
  {
   "cell_type": "markdown",
   "metadata": {},
   "source": [
    "### 1.1 Linear Regression"
   ]
  },
  {
   "cell_type": "code",
   "execution_count": null,
   "metadata": {},
   "outputs": [],
   "source": []
  },
  {
   "cell_type": "code",
   "execution_count": null,
   "metadata": {},
   "outputs": [],
   "source": []
  },
  {
   "cell_type": "code",
   "execution_count": null,
   "metadata": {},
   "outputs": [],
   "source": []
  },
  {
   "cell_type": "markdown",
   "metadata": {},
   "source": [
    "### 1.2 MLP Regression"
   ]
  },
  {
   "cell_type": "code",
   "execution_count": null,
   "metadata": {},
   "outputs": [],
   "source": []
  },
  {
   "cell_type": "code",
   "execution_count": null,
   "metadata": {},
   "outputs": [],
   "source": []
  },
  {
   "cell_type": "code",
   "execution_count": null,
   "metadata": {},
   "outputs": [],
   "source": []
  },
  {
   "cell_type": "markdown",
   "metadata": {},
   "source": [
    "## Part 2 Machine Learning Competition"
   ]
  },
  {
   "cell_type": "code",
   "execution_count": 6,
   "metadata": {},
   "outputs": [],
   "source": [
    "from rdkit import Chem, DataStructs\n",
    "from rdkit.Chem import AllChem, Descriptors,Crippen\n",
    "import numpy as np"
   ]
  },
  {
   "cell_type": "code",
   "execution_count": 8,
   "metadata": {},
   "outputs": [
    {
     "name": "stdout",
     "output_type": "stream",
     "text": [
      "(512,)\n"
     ]
    }
   ],
   "source": [
    "# Get molecular feature from RDkit \n",
    "smiles = 'CN1C=NC2=C1C(=O)N(C(=O)N2C)C'\n",
    "\n",
    "# define Mol object\n",
    "mol = Chem.MolFromSmiles(smiles)\n",
    "\n",
    "# get morgan fingerprint \n",
    "# obtain a 512 bit fingperint, with radius 2\n",
    "fp = AllChem.GetMorganFingerprintAsBitVect(mol, radius=2, nBits=512) \n",
    "\n",
    "# convert to numpy array \n",
    "fp_array = np.zeros((1,), np.int)\n",
    "fp = DataStructs.ConvertToNumpyArray(fp, fp_array)"
   ]
  },
  {
   "cell_type": "code",
   "execution_count": 4,
   "metadata": {},
   "outputs": [
    {
     "data": {
      "text/plain": [
       "<rdkit.DataStructs.cDataStructs.ExplicitBitVect at 0x7f4a8464bb20>"
      ]
     },
     "execution_count": 4,
     "metadata": {},
     "output_type": "execute_result"
    }
   ],
   "source": [
    "# Get various chemical properties \n",
    "\n",
    "MolWt = Descriptors.ExactMolWt(mol)\n",
    "TPSA = Chem.rdMolDescriptors.CalcTPSA(mol) #Topological Polar Surface Area\n",
    "nRotB = Descriptors.NumRotatableBonds(mol) #Number of rotable bonds\n",
    "HBD = Descriptors.NumHDonors(mol) #Number of H bond donors\n",
    "HBA = Descriptors.NumHAcceptors(mol) #Number of H bond acceptors\n",
    "logP = Descriptors.MolLogP(mol) #LogP"
   ]
  },
  {
   "cell_type": "code",
   "execution_count": null,
   "metadata": {},
   "outputs": [],
   "source": [
    "def save_submission(prediction, filename):\n",
    "    '''\n",
    "    utility function to dump a submission file\n",
    "    prediction (numpy.array): 1d numpy array contains your prediction\n",
    "    filename (str): file path to where you want to save the result\n",
    "    '''\n",
    "    sub = pd.DataFrame( {'index': list(range(len(prediction))), 'logK': prediction } )\n",
    "    sub.to_csv(filename, index=False)"
   ]
  }
 ],
 "metadata": {
  "kernelspec": {
   "display_name": "Python [conda env:ps3]",
   "language": "python",
   "name": "conda-env-ps3-py"
  },
  "language_info": {
   "codemirror_mode": {
    "name": "ipython",
    "version": 3
   },
   "file_extension": ".py",
   "mimetype": "text/x-python",
   "name": "python",
   "nbconvert_exporter": "python",
   "pygments_lexer": "ipython3",
   "version": "3.7.9"
  }
 },
 "nbformat": 4,
 "nbformat_minor": 2
}
